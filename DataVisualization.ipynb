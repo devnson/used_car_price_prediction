{
 "cells": [
  {
   "cell_type": "code",
   "execution_count": 1,
   "metadata": {},
   "outputs": [],
   "source": [
    "import os\n",
    "import pandas as pd"
   ]
  },
  {
   "cell_type": "code",
   "execution_count": 2,
   "metadata": {},
   "outputs": [],
   "source": [
    "path = \"/media/devson/New Volume/DeveloperWorld/Learning/MachineLearning/UsedCarPricePrediction/Dataset/\""
   ]
  },
  {
   "cell_type": "code",
   "execution_count": 3,
   "metadata": {},
   "outputs": [
    {
     "name": "stdout",
     "output_type": "stream",
     "text": [
      "/media/devson/New Volume/DeveloperWorld/Learning/MachineLearning/UsedCarPricePrediction\n",
      "['.ipynb_checkpoints', 'Dataset', 'DataVisualization.ipynb', 'PredictingSomeAccuracy.ipynb', 'report.html']\n"
     ]
    }
   ],
   "source": [
    "import os\n",
    "print(os.getcwd())\n",
    "\n",
    "print(os.listdir(os.getcwd()))"
   ]
  },
  {
   "cell_type": "code",
   "execution_count": 18,
   "metadata": {},
   "outputs": [],
   "source": [
    "df = pd.read_csv(os.path.join(path,\"vehicles.csv\"))"
   ]
  },
  {
   "cell_type": "code",
   "execution_count": 19,
   "metadata": {},
   "outputs": [
    {
     "data": {
      "text/plain": [
       "(458213, 26)"
      ]
     },
     "execution_count": 19,
     "metadata": {},
     "output_type": "execute_result"
    }
   ],
   "source": [
    "df.shape"
   ]
  },
  {
   "cell_type": "code",
   "execution_count": 20,
   "metadata": {},
   "outputs": [
    {
     "data": {
      "text/html": [
       "<div>\n",
       "<style scoped>\n",
       "    .dataframe tbody tr th:only-of-type {\n",
       "        vertical-align: middle;\n",
       "    }\n",
       "\n",
       "    .dataframe tbody tr th {\n",
       "        vertical-align: top;\n",
       "    }\n",
       "\n",
       "    .dataframe thead th {\n",
       "        text-align: right;\n",
       "    }\n",
       "</style>\n",
       "<table border=\"1\" class=\"dataframe\">\n",
       "  <thead>\n",
       "    <tr style=\"text-align: right;\">\n",
       "      <th></th>\n",
       "      <th>Unnamed: 0</th>\n",
       "      <th>id</th>\n",
       "      <th>url</th>\n",
       "      <th>region</th>\n",
       "      <th>region_url</th>\n",
       "      <th>price</th>\n",
       "      <th>year</th>\n",
       "      <th>manufacturer</th>\n",
       "      <th>model</th>\n",
       "      <th>condition</th>\n",
       "      <th>...</th>\n",
       "      <th>drive</th>\n",
       "      <th>size</th>\n",
       "      <th>type</th>\n",
       "      <th>paint_color</th>\n",
       "      <th>image_url</th>\n",
       "      <th>description</th>\n",
       "      <th>state</th>\n",
       "      <th>lat</th>\n",
       "      <th>long</th>\n",
       "      <th>posting_date</th>\n",
       "    </tr>\n",
       "  </thead>\n",
       "  <tbody>\n",
       "    <tr>\n",
       "      <th>0</th>\n",
       "      <td>0</td>\n",
       "      <td>7240372487</td>\n",
       "      <td>https://auburn.craigslist.org/ctd/d/auburn-uni...</td>\n",
       "      <td>auburn</td>\n",
       "      <td>https://auburn.craigslist.org</td>\n",
       "      <td>35990</td>\n",
       "      <td>2010.0</td>\n",
       "      <td>chevrolet</td>\n",
       "      <td>corvette grand sport</td>\n",
       "      <td>good</td>\n",
       "      <td>...</td>\n",
       "      <td>rwd</td>\n",
       "      <td>NaN</td>\n",
       "      <td>other</td>\n",
       "      <td>NaN</td>\n",
       "      <td>https://images.craigslist.org/00N0N_ipkbHVZYf4...</td>\n",
       "      <td>Carvana is the safer way to buy a car During t...</td>\n",
       "      <td>al</td>\n",
       "      <td>32.590000</td>\n",
       "      <td>-85.480000</td>\n",
       "      <td>2020-12-02T08:11:30-0600</td>\n",
       "    </tr>\n",
       "    <tr>\n",
       "      <th>1</th>\n",
       "      <td>1</td>\n",
       "      <td>7240309422</td>\n",
       "      <td>https://auburn.craigslist.org/cto/d/auburn-201...</td>\n",
       "      <td>auburn</td>\n",
       "      <td>https://auburn.craigslist.org</td>\n",
       "      <td>7500</td>\n",
       "      <td>2014.0</td>\n",
       "      <td>hyundai</td>\n",
       "      <td>sonata</td>\n",
       "      <td>excellent</td>\n",
       "      <td>...</td>\n",
       "      <td>fwd</td>\n",
       "      <td>NaN</td>\n",
       "      <td>sedan</td>\n",
       "      <td>NaN</td>\n",
       "      <td>https://images.craigslist.org/00s0s_gBHYmJ5o7y...</td>\n",
       "      <td>I'll move to another city and try to sell my c...</td>\n",
       "      <td>al</td>\n",
       "      <td>32.547500</td>\n",
       "      <td>-85.468200</td>\n",
       "      <td>2020-12-02T02:11:50-0600</td>\n",
       "    </tr>\n",
       "    <tr>\n",
       "      <th>2</th>\n",
       "      <td>2</td>\n",
       "      <td>7240224296</td>\n",
       "      <td>https://auburn.craigslist.org/cto/d/auburn-200...</td>\n",
       "      <td>auburn</td>\n",
       "      <td>https://auburn.craigslist.org</td>\n",
       "      <td>4900</td>\n",
       "      <td>2006.0</td>\n",
       "      <td>bmw</td>\n",
       "      <td>x3 3.0i</td>\n",
       "      <td>good</td>\n",
       "      <td>...</td>\n",
       "      <td>NaN</td>\n",
       "      <td>NaN</td>\n",
       "      <td>SUV</td>\n",
       "      <td>blue</td>\n",
       "      <td>https://images.craigslist.org/00B0B_5zgEGWPOrt...</td>\n",
       "      <td>Clean 2006 BMW X3 3.0I.  Beautiful and rare Bl...</td>\n",
       "      <td>al</td>\n",
       "      <td>32.616807</td>\n",
       "      <td>-85.464149</td>\n",
       "      <td>2020-12-01T19:50:41-0600</td>\n",
       "    </tr>\n",
       "    <tr>\n",
       "      <th>3</th>\n",
       "      <td>3</td>\n",
       "      <td>7240103965</td>\n",
       "      <td>https://auburn.craigslist.org/cto/d/lanett-tru...</td>\n",
       "      <td>auburn</td>\n",
       "      <td>https://auburn.craigslist.org</td>\n",
       "      <td>2000</td>\n",
       "      <td>1974.0</td>\n",
       "      <td>chevrolet</td>\n",
       "      <td>c-10</td>\n",
       "      <td>good</td>\n",
       "      <td>...</td>\n",
       "      <td>rwd</td>\n",
       "      <td>full-size</td>\n",
       "      <td>pickup</td>\n",
       "      <td>blue</td>\n",
       "      <td>https://images.craigslist.org/00M0M_6o7KcDpArw...</td>\n",
       "      <td>1974 chev. truck (LONG BED) NEW starter front ...</td>\n",
       "      <td>al</td>\n",
       "      <td>32.861600</td>\n",
       "      <td>-85.216100</td>\n",
       "      <td>2020-12-01T15:54:45-0600</td>\n",
       "    </tr>\n",
       "    <tr>\n",
       "      <th>4</th>\n",
       "      <td>4</td>\n",
       "      <td>7239983776</td>\n",
       "      <td>https://auburn.craigslist.org/cto/d/auburn-200...</td>\n",
       "      <td>auburn</td>\n",
       "      <td>https://auburn.craigslist.org</td>\n",
       "      <td>19500</td>\n",
       "      <td>2005.0</td>\n",
       "      <td>ford</td>\n",
       "      <td>f350 lariat</td>\n",
       "      <td>excellent</td>\n",
       "      <td>...</td>\n",
       "      <td>4wd</td>\n",
       "      <td>full-size</td>\n",
       "      <td>pickup</td>\n",
       "      <td>blue</td>\n",
       "      <td>https://images.craigslist.org/00p0p_b95l1EgUfl...</td>\n",
       "      <td>2005 Ford F350 Lariat (Bullet Proofed). This t...</td>\n",
       "      <td>al</td>\n",
       "      <td>32.547500</td>\n",
       "      <td>-85.468200</td>\n",
       "      <td>2020-12-01T12:53:56-0600</td>\n",
       "    </tr>\n",
       "  </tbody>\n",
       "</table>\n",
       "<p>5 rows × 26 columns</p>\n",
       "</div>"
      ],
      "text/plain": [
       "   Unnamed: 0          id                                                url  \\\n",
       "0           0  7240372487  https://auburn.craigslist.org/ctd/d/auburn-uni...   \n",
       "1           1  7240309422  https://auburn.craigslist.org/cto/d/auburn-201...   \n",
       "2           2  7240224296  https://auburn.craigslist.org/cto/d/auburn-200...   \n",
       "3           3  7240103965  https://auburn.craigslist.org/cto/d/lanett-tru...   \n",
       "4           4  7239983776  https://auburn.craigslist.org/cto/d/auburn-200...   \n",
       "\n",
       "   region                     region_url  price    year manufacturer  \\\n",
       "0  auburn  https://auburn.craigslist.org  35990  2010.0    chevrolet   \n",
       "1  auburn  https://auburn.craigslist.org   7500  2014.0      hyundai   \n",
       "2  auburn  https://auburn.craigslist.org   4900  2006.0          bmw   \n",
       "3  auburn  https://auburn.craigslist.org   2000  1974.0    chevrolet   \n",
       "4  auburn  https://auburn.craigslist.org  19500  2005.0         ford   \n",
       "\n",
       "                  model  condition  ... drive       size    type paint_color  \\\n",
       "0  corvette grand sport       good  ...   rwd        NaN   other         NaN   \n",
       "1                sonata  excellent  ...   fwd        NaN   sedan         NaN   \n",
       "2               x3 3.0i       good  ...   NaN        NaN     SUV        blue   \n",
       "3                  c-10       good  ...   rwd  full-size  pickup        blue   \n",
       "4           f350 lariat  excellent  ...   4wd  full-size  pickup        blue   \n",
       "\n",
       "                                           image_url  \\\n",
       "0  https://images.craigslist.org/00N0N_ipkbHVZYf4...   \n",
       "1  https://images.craigslist.org/00s0s_gBHYmJ5o7y...   \n",
       "2  https://images.craigslist.org/00B0B_5zgEGWPOrt...   \n",
       "3  https://images.craigslist.org/00M0M_6o7KcDpArw...   \n",
       "4  https://images.craigslist.org/00p0p_b95l1EgUfl...   \n",
       "\n",
       "                                         description state        lat  \\\n",
       "0  Carvana is the safer way to buy a car During t...    al  32.590000   \n",
       "1  I'll move to another city and try to sell my c...    al  32.547500   \n",
       "2  Clean 2006 BMW X3 3.0I.  Beautiful and rare Bl...    al  32.616807   \n",
       "3  1974 chev. truck (LONG BED) NEW starter front ...    al  32.861600   \n",
       "4  2005 Ford F350 Lariat (Bullet Proofed). This t...    al  32.547500   \n",
       "\n",
       "        long              posting_date  \n",
       "0 -85.480000  2020-12-02T08:11:30-0600  \n",
       "1 -85.468200  2020-12-02T02:11:50-0600  \n",
       "2 -85.464149  2020-12-01T19:50:41-0600  \n",
       "3 -85.216100  2020-12-01T15:54:45-0600  \n",
       "4 -85.468200  2020-12-01T12:53:56-0600  \n",
       "\n",
       "[5 rows x 26 columns]"
      ]
     },
     "execution_count": 20,
     "metadata": {},
     "output_type": "execute_result"
    }
   ],
   "source": [
    "df.head()"
   ]
  },
  {
   "cell_type": "code",
   "execution_count": 21,
   "metadata": {},
   "outputs": [
    {
     "name": "stdout",
     "output_type": "stream",
     "text": [
      "<class 'pandas.core.frame.DataFrame'>\n",
      "RangeIndex: 458213 entries, 0 to 458212\n",
      "Data columns (total 26 columns):\n",
      " #   Column        Non-Null Count   Dtype  \n",
      "---  ------        --------------   -----  \n",
      " 0   Unnamed: 0    458213 non-null  int64  \n",
      " 1   id            458213 non-null  int64  \n",
      " 2   url           458213 non-null  object \n",
      " 3   region        458213 non-null  object \n",
      " 4   region_url    458213 non-null  object \n",
      " 5   price         458213 non-null  int64  \n",
      " 6   year          457163 non-null  float64\n",
      " 7   manufacturer  439993 non-null  object \n",
      " 8   model         453367 non-null  object \n",
      " 9   condition     265273 non-null  object \n",
      " 10  cylinders     287073 non-null  object \n",
      " 11  fuel          454976 non-null  object \n",
      " 12  odometer      402910 non-null  float64\n",
      " 13  title_status  455636 non-null  object \n",
      " 14  transmission  455771 non-null  object \n",
      " 15  VIN           270664 non-null  object \n",
      " 16  drive         324025 non-null  object \n",
      " 17  size          136865 non-null  object \n",
      " 18  type          345475 non-null  object \n",
      " 19  paint_color   317370 non-null  object \n",
      " 20  image_url     458185 non-null  object \n",
      " 21  description   458143 non-null  object \n",
      " 22  state         458213 non-null  object \n",
      " 23  lat           450765 non-null  float64\n",
      " 24  long          450765 non-null  float64\n",
      " 25  posting_date  458185 non-null  object \n",
      "dtypes: float64(4), int64(3), object(19)\n",
      "memory usage: 90.9+ MB\n"
     ]
    }
   ],
   "source": [
    "df.info()"
   ]
  },
  {
   "cell_type": "code",
   "execution_count": 22,
   "metadata": {},
   "outputs": [],
   "source": [
    "## Dropping all the unnecessary columns\n",
    "\n",
    "xcolumns = [\"region_url\",\"url\",\"VIN\",\"image_url\",\"lat\",\"long\",\"posting_date\"]"
   ]
  },
  {
   "cell_type": "code",
   "execution_count": 23,
   "metadata": {},
   "outputs": [],
   "source": [
    "df = df.drop(columns = xcolumns)"
   ]
  },
  {
   "cell_type": "code",
   "execution_count": 24,
   "metadata": {},
   "outputs": [
    {
     "data": {
      "text/plain": [
       "(458213, 19)"
      ]
     },
     "execution_count": 24,
     "metadata": {},
     "output_type": "execute_result"
    }
   ],
   "source": [
    "df.shape"
   ]
  },
  {
   "cell_type": "code",
   "execution_count": 25,
   "metadata": {},
   "outputs": [],
   "source": [
    "## Before making changes on original data making dummy data\n",
    "\n",
    "dfx = df.copy()"
   ]
  },
  {
   "cell_type": "markdown",
   "metadata": {},
   "source": [
    "# Exploring some features and Datasets"
   ]
  },
  {
   "cell_type": "code",
   "execution_count": 26,
   "metadata": {},
   "outputs": [
    {
     "data": {
      "text/plain": [
       "Unnamed: 0           0\n",
       "id                   0\n",
       "region               0\n",
       "price                0\n",
       "year              1050\n",
       "manufacturer     18220\n",
       "model             4846\n",
       "condition       192940\n",
       "cylinders       171140\n",
       "fuel              3237\n",
       "odometer         55303\n",
       "title_status      2577\n",
       "transmission      2442\n",
       "drive           134188\n",
       "size            321348\n",
       "type            112738\n",
       "paint_color     140843\n",
       "description         70\n",
       "state                0\n",
       "dtype: int64"
      ]
     },
     "execution_count": 26,
     "metadata": {},
     "output_type": "execute_result"
    }
   ],
   "source": [
    "dfx.isnull().sum()"
   ]
  },
  {
   "cell_type": "markdown",
   "metadata": {},
   "source": [
    "## Filling missing values for Numerical Datas\n",
    "\n",
    "- Year\n",
    "- Odometer\n"
   ]
  },
  {
   "cell_type": "markdown",
   "metadata": {},
   "source": [
    "### Year\n",
    "\n",
    "Since, Year is the categorical Numerical Variable, we are using 'Mode' method to fill the missing value\n",
    "\n",
    "### Odometer\n",
    "\n",
    "Odometer is the continous value, so we are using mean method to fill the missing values"
   ]
  },
  {
   "cell_type": "code",
   "execution_count": 27,
   "metadata": {},
   "outputs": [],
   "source": [
    "dfx[\"year\"].fillna(dfx[\"year\"].mode()[0], inplace=True)\n",
    "dfx[\"odometer\"].fillna(dfx[\"odometer\"].mean(), inplace = True)\n"
   ]
  },
  {
   "cell_type": "code",
   "execution_count": 28,
   "metadata": {},
   "outputs": [
    {
     "data": {
      "text/plain": [
       "Unnamed: 0           0\n",
       "id                   0\n",
       "region               0\n",
       "price                0\n",
       "year                 0\n",
       "manufacturer     18220\n",
       "model             4846\n",
       "condition       192940\n",
       "cylinders       171140\n",
       "fuel              3237\n",
       "odometer             0\n",
       "title_status      2577\n",
       "transmission      2442\n",
       "drive           134188\n",
       "size            321348\n",
       "type            112738\n",
       "paint_color     140843\n",
       "description         70\n",
       "state                0\n",
       "dtype: int64"
      ]
     },
     "execution_count": 28,
     "metadata": {},
     "output_type": "execute_result"
    }
   ],
   "source": [
    "dfx.isnull().sum()"
   ]
  },
  {
   "cell_type": "markdown",
   "metadata": {},
   "source": [
    "## Filling Missing data for Categorical Datas\n",
    "- manufacturer\n",
    "- model\n",
    "- condition\n",
    "- cylinders\n",
    "- fuel\n",
    "- title_status\n",
    "- transmission\n",
    "- drive\n",
    "- size\n",
    "- type\n",
    "- paint_color\n"
   ]
  },
  {
   "cell_type": "markdown",
   "metadata": {},
   "source": [
    "#### ----------------------------- Manufacturer -----------------------------"
   ]
  },
  {
   "cell_type": "code",
   "execution_count": 29,
   "metadata": {},
   "outputs": [
    {
     "data": {
      "text/plain": [
       "ford               79666\n",
       "chevrolet          64977\n",
       "toyota             38577\n",
       "honda              25868\n",
       "nissan             23654\n",
       "jeep               21165\n",
       "ram                17697\n",
       "gmc                17267\n",
       "dodge              16730\n",
       "bmw                12352\n",
       "hyundai            10975\n",
       "mercedes-benz      10628\n",
       "subaru             10510\n",
       "volkswagen         10489\n",
       "kia                 8854\n",
       "chrysler            7499\n",
       "lexus               7119\n",
       "cadillac            6743\n",
       "buick               6009\n",
       "mazda               5931\n",
       "audi                5583\n",
       "acura               4008\n",
       "infiniti            3714\n",
       "lincoln             3338\n",
       "pontiac             3037\n",
       "volvo               2866\n",
       "mini                2330\n",
       "mitsubishi          2301\n",
       "porsche             1779\n",
       "rover               1662\n",
       "mercury             1645\n",
       "saturn              1393\n",
       "tesla               1067\n",
       "jaguar              1060\n",
       "fiat                 955\n",
       "alfa-romeo           187\n",
       "harley-davidson      139\n",
       "ferrari               96\n",
       "datsun                63\n",
       "aston-martin          35\n",
       "land rover            21\n",
       "morgan                 3\n",
       "hennessey              1\n",
       "Name: manufacturer, dtype: int64"
      ]
     },
     "execution_count": 29,
     "metadata": {},
     "output_type": "execute_result"
    }
   ],
   "source": [
    "dfx['manufacturer'].value_counts()"
   ]
  },
  {
   "cell_type": "code",
   "execution_count": 30,
   "metadata": {},
   "outputs": [
    {
     "data": {
      "text/plain": [
       "18220"
      ]
     },
     "execution_count": 30,
     "metadata": {},
     "output_type": "execute_result"
    }
   ],
   "source": [
    "dfx['manufacturer'].isnull().sum()"
   ]
  },
  {
   "cell_type": "code",
   "execution_count": 31,
   "metadata": {},
   "outputs": [],
   "source": [
    "dfx['manufacturer'].fillna(df['manufacturer'].mode()[0], inplace = True)"
   ]
  },
  {
   "cell_type": "code",
   "execution_count": 32,
   "metadata": {},
   "outputs": [
    {
     "data": {
      "text/plain": [
       "0"
      ]
     },
     "execution_count": 32,
     "metadata": {},
     "output_type": "execute_result"
    }
   ],
   "source": [
    "dfx['manufacturer'].isnull().sum()"
   ]
  },
  {
   "cell_type": "markdown",
   "metadata": {},
   "source": [
    "#### -------------------------------- Model --------------------------------"
   ]
  },
  {
   "cell_type": "code",
   "execution_count": 33,
   "metadata": {},
   "outputs": [],
   "source": [
    "dfx['model'].fillna(dfx['model'].mode()[0], inplace = True)"
   ]
  },
  {
   "cell_type": "code",
   "execution_count": 34,
   "metadata": {},
   "outputs": [
    {
     "data": {
      "text/plain": [
       "0"
      ]
     },
     "execution_count": 34,
     "metadata": {},
     "output_type": "execute_result"
    }
   ],
   "source": [
    "dfx['model'].isnull().sum()"
   ]
  },
  {
   "cell_type": "markdown",
   "metadata": {},
   "source": [
    "#### ----------------------------- Condition -----------------------------"
   ]
  },
  {
   "cell_type": "code",
   "execution_count": 35,
   "metadata": {},
   "outputs": [
    {
     "data": {
      "text/plain": [
       "good         115685\n",
       "excellent    115206\n",
       "like new      24553\n",
       "fair           7740\n",
       "new            1428\n",
       "salvage         661\n",
       "Name: condition, dtype: int64"
      ]
     },
     "execution_count": 35,
     "metadata": {},
     "output_type": "execute_result"
    }
   ],
   "source": [
    "dfx['condition'].value_counts()"
   ]
  },
  {
   "cell_type": "code",
   "execution_count": 36,
   "metadata": {},
   "outputs": [],
   "source": [
    "dfx['condition'].fillna(dfx['condition'].mode()[0], inplace = True)"
   ]
  },
  {
   "cell_type": "code",
   "execution_count": 37,
   "metadata": {},
   "outputs": [
    {
     "data": {
      "text/plain": [
       "0"
      ]
     },
     "execution_count": 37,
     "metadata": {},
     "output_type": "execute_result"
    }
   ],
   "source": [
    "dfx['condition'].isnull().sum()"
   ]
  },
  {
   "cell_type": "markdown",
   "metadata": {},
   "source": [
    "#### ----------------------------- Cylinders -----------------------------"
   ]
  },
  {
   "cell_type": "code",
   "execution_count": 38,
   "metadata": {},
   "outputs": [
    {
     "data": {
      "text/plain": [
       "6 cylinders     105677\n",
       "4 cylinders      94767\n",
       "8 cylinders      81179\n",
       "5 cylinders       2058\n",
       "10 cylinders      1543\n",
       "other             1112\n",
       "3 cylinders        550\n",
       "12 cylinders       187\n",
       "Name: cylinders, dtype: int64"
      ]
     },
     "execution_count": 38,
     "metadata": {},
     "output_type": "execute_result"
    }
   ],
   "source": [
    "dfx['cylinders'].value_counts()"
   ]
  },
  {
   "cell_type": "code",
   "execution_count": 39,
   "metadata": {},
   "outputs": [],
   "source": [
    "dfx['cylinders'].fillna(dfx['cylinders'].mode()[0], inplace = True)"
   ]
  },
  {
   "cell_type": "code",
   "execution_count": 40,
   "metadata": {},
   "outputs": [
    {
     "data": {
      "text/plain": [
       "0"
      ]
     },
     "execution_count": 40,
     "metadata": {},
     "output_type": "execute_result"
    }
   ],
   "source": [
    "dfx['cylinders'].isnull().sum()"
   ]
  },
  {
   "cell_type": "markdown",
   "metadata": {},
   "source": [
    "#### ----------------------------- Fuel -----------------------------"
   ]
  },
  {
   "cell_type": "code",
   "execution_count": 41,
   "metadata": {},
   "outputs": [
    {
     "data": {
      "text/plain": [
       "gas         399399\n",
       "diesel       31077\n",
       "other        16359\n",
       "hybrid        5790\n",
       "electric      2351\n",
       "Name: fuel, dtype: int64"
      ]
     },
     "execution_count": 41,
     "metadata": {},
     "output_type": "execute_result"
    }
   ],
   "source": [
    "dfx['fuel'].value_counts()"
   ]
  },
  {
   "cell_type": "code",
   "execution_count": 42,
   "metadata": {},
   "outputs": [],
   "source": [
    "dfx['fuel'].fillna(dfx['fuel'].mode()[0], inplace = True)"
   ]
  },
  {
   "cell_type": "code",
   "execution_count": 43,
   "metadata": {},
   "outputs": [
    {
     "data": {
      "text/plain": [
       "0"
      ]
     },
     "execution_count": 43,
     "metadata": {},
     "output_type": "execute_result"
    }
   ],
   "source": [
    "dfx['fuel'].isnull().sum()"
   ]
  },
  {
   "cell_type": "markdown",
   "metadata": {},
   "source": [
    "#### ----------------------------- title_status -----------------------------\n",
    "\n",
    "Since title_status is no use, so dropping this column"
   ]
  },
  {
   "cell_type": "code",
   "execution_count": 44,
   "metadata": {},
   "outputs": [
    {
     "data": {
      "text/plain": [
       "clean         439626\n",
       "rebuilt         8698\n",
       "salvage         4233\n",
       "lien            2091\n",
       "missing          794\n",
       "parts only       194\n",
       "Name: title_status, dtype: int64"
      ]
     },
     "execution_count": 44,
     "metadata": {},
     "output_type": "execute_result"
    }
   ],
   "source": [
    "dfx['title_status'].value_counts()"
   ]
  },
  {
   "cell_type": "code",
   "execution_count": 45,
   "metadata": {},
   "outputs": [],
   "source": [
    "dfx = dfx.drop(['title_status'], axis = 1)"
   ]
  },
  {
   "cell_type": "code",
   "execution_count": 46,
   "metadata": {},
   "outputs": [
    {
     "data": {
      "text/plain": [
       "(458213, 18)"
      ]
     },
     "execution_count": 46,
     "metadata": {},
     "output_type": "execute_result"
    }
   ],
   "source": [
    "dfx.shape"
   ]
  },
  {
   "cell_type": "code",
   "execution_count": 47,
   "metadata": {},
   "outputs": [
    {
     "data": {
      "text/plain": [
       "(458213, 19)"
      ]
     },
     "execution_count": 47,
     "metadata": {},
     "output_type": "execute_result"
    }
   ],
   "source": [
    "df.shape"
   ]
  },
  {
   "cell_type": "markdown",
   "metadata": {},
   "source": [
    "#### -------------------------------- transmission --------------------------------"
   ]
  },
  {
   "cell_type": "code",
   "execution_count": 48,
   "metadata": {},
   "outputs": [
    {
     "data": {
      "text/plain": [
       "automatic    396322\n",
       "other         32186\n",
       "manual        27263\n",
       "Name: transmission, dtype: int64"
      ]
     },
     "execution_count": 48,
     "metadata": {},
     "output_type": "execute_result"
    }
   ],
   "source": [
    "dfx['transmission'].value_counts()"
   ]
  },
  {
   "cell_type": "code",
   "execution_count": 49,
   "metadata": {},
   "outputs": [],
   "source": [
    "dfx['transmission'].fillna(dfx['transmission'].mode()[0], inplace = True)"
   ]
  },
  {
   "cell_type": "code",
   "execution_count": 50,
   "metadata": {},
   "outputs": [
    {
     "data": {
      "text/plain": [
       "0"
      ]
     },
     "execution_count": 50,
     "metadata": {},
     "output_type": "execute_result"
    }
   ],
   "source": [
    "dfx['transmission'].isnull().sum()"
   ]
  },
  {
   "cell_type": "markdown",
   "metadata": {},
   "source": [
    "#### -------------------------------- drive --------------------------------"
   ]
  },
  {
   "cell_type": "code",
   "execution_count": 51,
   "metadata": {},
   "outputs": [
    {
     "data": {
      "text/plain": [
       "4wd    139693\n",
       "fwd    122602\n",
       "rwd     61730\n",
       "Name: drive, dtype: int64"
      ]
     },
     "execution_count": 51,
     "metadata": {},
     "output_type": "execute_result"
    }
   ],
   "source": [
    "dfx['drive'].value_counts()"
   ]
  },
  {
   "cell_type": "code",
   "execution_count": 52,
   "metadata": {},
   "outputs": [],
   "source": [
    "dfx['drive'].fillna(dfx['drive'].mode()[0], inplace=True)"
   ]
  },
  {
   "cell_type": "code",
   "execution_count": 53,
   "metadata": {},
   "outputs": [
    {
     "data": {
      "text/plain": [
       "0"
      ]
     },
     "execution_count": 53,
     "metadata": {},
     "output_type": "execute_result"
    }
   ],
   "source": [
    "dfx['drive'].isnull().sum()"
   ]
  },
  {
   "cell_type": "markdown",
   "metadata": {},
   "source": [
    "#### -------------------------------- size --------------------------------"
   ]
  },
  {
   "cell_type": "code",
   "execution_count": 54,
   "metadata": {},
   "outputs": [
    {
     "data": {
      "text/plain": [
       "full-size      69736\n",
       "mid-size       41782\n",
       "compact        21825\n",
       "sub-compact     3522\n",
       "Name: size, dtype: int64"
      ]
     },
     "execution_count": 54,
     "metadata": {},
     "output_type": "execute_result"
    }
   ],
   "source": [
    "dfx['size'].value_counts()"
   ]
  },
  {
   "cell_type": "code",
   "execution_count": 55,
   "metadata": {},
   "outputs": [],
   "source": [
    "dfx['size'].fillna(dfx['size'].mode()[0], inplace = True)"
   ]
  },
  {
   "cell_type": "code",
   "execution_count": 56,
   "metadata": {},
   "outputs": [
    {
     "data": {
      "text/plain": [
       "0"
      ]
     },
     "execution_count": 56,
     "metadata": {},
     "output_type": "execute_result"
    }
   ],
   "source": [
    "dfx['size'].isnull().sum()"
   ]
  },
  {
   "cell_type": "markdown",
   "metadata": {},
   "source": [
    "#### -------------------------------- type --------------------------------"
   ]
  },
  {
   "cell_type": "code",
   "execution_count": 57,
   "metadata": {},
   "outputs": [
    {
     "data": {
      "text/plain": [
       "sedan          92364\n",
       "SUV            79882\n",
       "pickup         43343\n",
       "truck          35694\n",
       "other          24160\n",
       "coupe          19106\n",
       "hatchback      16388\n",
       "wagon          10473\n",
       "van             9574\n",
       "convertible     6864\n",
       "mini-van        6263\n",
       "bus              717\n",
       "offroad          647\n",
       "Name: type, dtype: int64"
      ]
     },
     "execution_count": 57,
     "metadata": {},
     "output_type": "execute_result"
    }
   ],
   "source": [
    "dfx['type'].value_counts()"
   ]
  },
  {
   "cell_type": "code",
   "execution_count": 58,
   "metadata": {},
   "outputs": [],
   "source": [
    "dfx['type'].fillna(dfx['type'].mode()[0], inplace = True)"
   ]
  },
  {
   "cell_type": "code",
   "execution_count": 59,
   "metadata": {},
   "outputs": [
    {
     "data": {
      "text/plain": [
       "0"
      ]
     },
     "execution_count": 59,
     "metadata": {},
     "output_type": "execute_result"
    }
   ],
   "source": [
    "dfx['type'].isnull().sum()"
   ]
  },
  {
   "cell_type": "markdown",
   "metadata": {},
   "source": [
    "#### -------------------------------- paint_color --------------------------------"
   ]
  },
  {
   "cell_type": "code",
   "execution_count": 60,
   "metadata": {},
   "outputs": [
    {
     "data": {
      "text/plain": [
       "white     82786\n",
       "black     64145\n",
       "silver    46722\n",
       "red       33274\n",
       "blue      32746\n",
       "grey      30455\n",
       "custom     8843\n",
       "green      7631\n",
       "brown      6028\n",
       "yellow     2002\n",
       "orange     1970\n",
       "purple      768\n",
       "Name: paint_color, dtype: int64"
      ]
     },
     "execution_count": 60,
     "metadata": {},
     "output_type": "execute_result"
    }
   ],
   "source": [
    "dfx['paint_color'].value_counts()"
   ]
  },
  {
   "cell_type": "code",
   "execution_count": 61,
   "metadata": {},
   "outputs": [],
   "source": [
    "dfx['paint_color'].fillna(df['paint_color'].mode()[0], inplace = True)\n"
   ]
  },
  {
   "cell_type": "code",
   "execution_count": 62,
   "metadata": {},
   "outputs": [
    {
     "data": {
      "text/plain": [
       "0"
      ]
     },
     "execution_count": 62,
     "metadata": {},
     "output_type": "execute_result"
    }
   ],
   "source": [
    "dfx['paint_color'].isnull().sum()"
   ]
  },
  {
   "cell_type": "markdown",
   "metadata": {},
   "source": [
    "#### -------------------------------- description --------------------------------"
   ]
  },
  {
   "cell_type": "markdown",
   "metadata": {},
   "source": [
    "Since description is not usuable, so dropping this column"
   ]
  },
  {
   "cell_type": "code",
   "execution_count": 63,
   "metadata": {},
   "outputs": [],
   "source": [
    "dfx = dfx.drop(['description'], axis = 1)"
   ]
  },
  {
   "cell_type": "code",
   "execution_count": 64,
   "metadata": {},
   "outputs": [
    {
     "data": {
      "text/plain": [
       "(458213, 17)"
      ]
     },
     "execution_count": 64,
     "metadata": {},
     "output_type": "execute_result"
    }
   ],
   "source": [
    "dfx.shape"
   ]
  },
  {
   "cell_type": "code",
   "execution_count": 65,
   "metadata": {},
   "outputs": [
    {
     "data": {
      "text/plain": [
       "(458213, 19)"
      ]
     },
     "execution_count": 65,
     "metadata": {},
     "output_type": "execute_result"
    }
   ],
   "source": [
    "df.shape"
   ]
  },
  {
   "cell_type": "code",
   "execution_count": 66,
   "metadata": {},
   "outputs": [
    {
     "name": "stdout",
     "output_type": "stream",
     "text": [
      "<class 'pandas.core.frame.DataFrame'>\n",
      "RangeIndex: 458213 entries, 0 to 458212\n",
      "Data columns (total 17 columns):\n",
      " #   Column        Non-Null Count   Dtype  \n",
      "---  ------        --------------   -----  \n",
      " 0   Unnamed: 0    458213 non-null  int64  \n",
      " 1   id            458213 non-null  int64  \n",
      " 2   region        458213 non-null  object \n",
      " 3   price         458213 non-null  int64  \n",
      " 4   year          458213 non-null  float64\n",
      " 5   manufacturer  458213 non-null  object \n",
      " 6   model         458213 non-null  object \n",
      " 7   condition     458213 non-null  object \n",
      " 8   cylinders     458213 non-null  object \n",
      " 9   fuel          458213 non-null  object \n",
      " 10  odometer      458213 non-null  float64\n",
      " 11  transmission  458213 non-null  object \n",
      " 12  drive         458213 non-null  object \n",
      " 13  size          458213 non-null  object \n",
      " 14  type          458213 non-null  object \n",
      " 15  paint_color   458213 non-null  object \n",
      " 16  state         458213 non-null  object \n",
      "dtypes: float64(2), int64(3), object(12)\n",
      "memory usage: 59.4+ MB\n"
     ]
    }
   ],
   "source": [
    "dfx.info()"
   ]
  },
  {
   "cell_type": "code",
   "execution_count": 67,
   "metadata": {},
   "outputs": [
    {
     "data": {
      "text/plain": [
       "Unnamed: 0      0\n",
       "id              0\n",
       "region          0\n",
       "price           0\n",
       "year            0\n",
       "manufacturer    0\n",
       "model           0\n",
       "condition       0\n",
       "cylinders       0\n",
       "fuel            0\n",
       "odometer        0\n",
       "transmission    0\n",
       "drive           0\n",
       "size            0\n",
       "type            0\n",
       "paint_color     0\n",
       "state           0\n",
       "dtype: int64"
      ]
     },
     "execution_count": 67,
     "metadata": {},
     "output_type": "execute_result"
    }
   ],
   "source": [
    "dfx.isnull().sum()"
   ]
  },
  {
   "cell_type": "markdown",
   "metadata": {},
   "source": [
    "## Detecting Ouliers"
   ]
  },
  {
   "cell_type": "code",
   "execution_count": 68,
   "metadata": {},
   "outputs": [],
   "source": [
    "import matplotlib.pyplot as plt\n",
    "import seaborn as sns"
   ]
  },
  {
   "cell_type": "code",
   "execution_count": 69,
   "metadata": {},
   "outputs": [
    {
     "name": "stdout",
     "output_type": "stream",
     "text": [
      "<class 'pandas.core.frame.DataFrame'>\n",
      "RangeIndex: 458213 entries, 0 to 458212\n",
      "Data columns (total 17 columns):\n",
      " #   Column        Non-Null Count   Dtype  \n",
      "---  ------        --------------   -----  \n",
      " 0   Unnamed: 0    458213 non-null  int64  \n",
      " 1   id            458213 non-null  int64  \n",
      " 2   region        458213 non-null  object \n",
      " 3   price         458213 non-null  int64  \n",
      " 4   year          458213 non-null  float64\n",
      " 5   manufacturer  458213 non-null  object \n",
      " 6   model         458213 non-null  object \n",
      " 7   condition     458213 non-null  object \n",
      " 8   cylinders     458213 non-null  object \n",
      " 9   fuel          458213 non-null  object \n",
      " 10  odometer      458213 non-null  float64\n",
      " 11  transmission  458213 non-null  object \n",
      " 12  drive         458213 non-null  object \n",
      " 13  size          458213 non-null  object \n",
      " 14  type          458213 non-null  object \n",
      " 15  paint_color   458213 non-null  object \n",
      " 16  state         458213 non-null  object \n",
      "dtypes: float64(2), int64(3), object(12)\n",
      "memory usage: 59.4+ MB\n"
     ]
    }
   ],
   "source": [
    "dfx.info()"
   ]
  },
  {
   "cell_type": "code",
   "execution_count": 70,
   "metadata": {},
   "outputs": [
    {
     "data": {
      "text/html": [
       "<div>\n",
       "<style scoped>\n",
       "    .dataframe tbody tr th:only-of-type {\n",
       "        vertical-align: middle;\n",
       "    }\n",
       "\n",
       "    .dataframe tbody tr th {\n",
       "        vertical-align: top;\n",
       "    }\n",
       "\n",
       "    .dataframe thead th {\n",
       "        text-align: right;\n",
       "    }\n",
       "</style>\n",
       "<table border=\"1\" class=\"dataframe\">\n",
       "  <thead>\n",
       "    <tr style=\"text-align: right;\">\n",
       "      <th></th>\n",
       "      <th>Unnamed: 0</th>\n",
       "      <th>id</th>\n",
       "      <th>price</th>\n",
       "      <th>year</th>\n",
       "      <th>odometer</th>\n",
       "    </tr>\n",
       "  </thead>\n",
       "  <tbody>\n",
       "    <tr>\n",
       "      <th>count</th>\n",
       "      <td>458213.000000</td>\n",
       "      <td>4.582130e+05</td>\n",
       "      <td>4.582130e+05</td>\n",
       "      <td>458213.000000</td>\n",
       "      <td>4.582130e+05</td>\n",
       "    </tr>\n",
       "    <tr>\n",
       "      <th>mean</th>\n",
       "      <td>229106.000000</td>\n",
       "      <td>7.235233e+09</td>\n",
       "      <td>4.042093e+04</td>\n",
       "      <td>2010.760397</td>\n",
       "      <td>1.016698e+05</td>\n",
       "    </tr>\n",
       "    <tr>\n",
       "      <th>std</th>\n",
       "      <td>132274.843786</td>\n",
       "      <td>4.594362e+06</td>\n",
       "      <td>8.194599e+06</td>\n",
       "      <td>8.863015</td>\n",
       "      <td>3.027524e+06</td>\n",
       "    </tr>\n",
       "    <tr>\n",
       "      <th>min</th>\n",
       "      <td>0.000000</td>\n",
       "      <td>7.208550e+09</td>\n",
       "      <td>0.000000e+00</td>\n",
       "      <td>1900.000000</td>\n",
       "      <td>0.000000e+00</td>\n",
       "    </tr>\n",
       "    <tr>\n",
       "      <th>25%</th>\n",
       "      <td>114553.000000</td>\n",
       "      <td>7.231953e+09</td>\n",
       "      <td>4.900000e+03</td>\n",
       "      <td>2008.000000</td>\n",
       "      <td>4.666200e+04</td>\n",
       "    </tr>\n",
       "    <tr>\n",
       "      <th>50%</th>\n",
       "      <td>229106.000000</td>\n",
       "      <td>7.236409e+09</td>\n",
       "      <td>1.099500e+04</td>\n",
       "      <td>2013.000000</td>\n",
       "      <td>9.921200e+04</td>\n",
       "    </tr>\n",
       "    <tr>\n",
       "      <th>75%</th>\n",
       "      <td>343659.000000</td>\n",
       "      <td>7.239321e+09</td>\n",
       "      <td>2.149500e+04</td>\n",
       "      <td>2016.000000</td>\n",
       "      <td>1.268820e+05</td>\n",
       "    </tr>\n",
       "    <tr>\n",
       "      <th>max</th>\n",
       "      <td>458212.000000</td>\n",
       "      <td>7.241019e+09</td>\n",
       "      <td>3.615215e+09</td>\n",
       "      <td>2021.000000</td>\n",
       "      <td>2.043756e+09</td>\n",
       "    </tr>\n",
       "  </tbody>\n",
       "</table>\n",
       "</div>"
      ],
      "text/plain": [
       "          Unnamed: 0            id         price           year      odometer\n",
       "count  458213.000000  4.582130e+05  4.582130e+05  458213.000000  4.582130e+05\n",
       "mean   229106.000000  7.235233e+09  4.042093e+04    2010.760397  1.016698e+05\n",
       "std    132274.843786  4.594362e+06  8.194599e+06       8.863015  3.027524e+06\n",
       "min         0.000000  7.208550e+09  0.000000e+00    1900.000000  0.000000e+00\n",
       "25%    114553.000000  7.231953e+09  4.900000e+03    2008.000000  4.666200e+04\n",
       "50%    229106.000000  7.236409e+09  1.099500e+04    2013.000000  9.921200e+04\n",
       "75%    343659.000000  7.239321e+09  2.149500e+04    2016.000000  1.268820e+05\n",
       "max    458212.000000  7.241019e+09  3.615215e+09    2021.000000  2.043756e+09"
      ]
     },
     "execution_count": 70,
     "metadata": {},
     "output_type": "execute_result"
    }
   ],
   "source": [
    "dfx.describe()"
   ]
  },
  {
   "cell_type": "markdown",
   "metadata": {},
   "source": [
    "Since there are three numerical features: year and odometer\n",
    "So, finding oultiers on each features and fixing them.\n",
    "\n",
    "### Year"
   ]
  },
  {
   "cell_type": "code",
   "execution_count": 71,
   "metadata": {},
   "outputs": [
    {
     "data": {
      "text/plain": [
       "<Figure size 576x576 with 0 Axes>"
      ]
     },
     "metadata": {},
     "output_type": "display_data"
    },
    {
     "data": {
      "image/png": "[encoded data removed]",
      "text/plain": [
       "<Figure size 360x360 with 1 Axes>"
      ]
     },
     "metadata": {
      "needs_background": "light"
     },
     "output_type": "display_data"
    }
   ],
   "source": [
    "plt.figure(figsize = (8,8))\n",
    "sns.displot(dfx['year']);"
   ]
  },
  {
   "cell_type": "markdown",
   "metadata": {},
   "source": [
    "### Price "
   ]
  },
  {
   "cell_type": "code",
   "execution_count": 72,
   "metadata": {},
   "outputs": [
    {
     "data": {
      "image/png": "[encoded data removed]",
      "text/plain": [
       "<Figure size 576x432 with 1 Axes>"
      ]
     },
     "metadata": {
      "needs_background": "light"
     },
     "output_type": "display_data"
    }
   ],
   "source": [
    "ax = plt.subplots(figsize = (8,6))\n",
    "sns.boxplot(y = dfx['price']);"
   ]
  },
  {
   "cell_type": "code",
   "execution_count": 73,
   "metadata": {},
   "outputs": [
    {
     "data": {
      "text/plain": [
       "count    4.582130e+05\n",
       "mean     4.042093e+04\n",
       "std      8.194599e+06\n",
       "min      0.000000e+00\n",
       "25%      4.900000e+03\n",
       "50%      1.099500e+04\n",
       "75%      2.149500e+04\n",
       "max      3.615215e+09\n",
       "Name: price, dtype: float64"
      ]
     },
     "execution_count": 73,
     "metadata": {},
     "output_type": "execute_result"
    }
   ],
   "source": [
    "dfx['price'].describe()"
   ]
  },
  {
   "cell_type": "markdown",
   "metadata": {},
   "source": [
    "Some crazy person, mistyped the price or either want to scam the buyer with 3 billion car price. Usually the car's price ranges upto 1 0r 2 million. We will filter the overpriced cars"
   ]
  },
  {
   "cell_type": "code",
   "execution_count": 74,
   "metadata": {},
   "outputs": [],
   "source": [
    "dfx = dfx[(dfx['price'] >= 100) & (dfx['price'] <= 100000)]"
   ]
  },
  {
   "cell_type": "code",
   "execution_count": 75,
   "metadata": {},
   "outputs": [
    {
     "data": {
      "image/png": "[encoded data removed]",
      "text/plain": [
       "<Figure size 576x576 with 1 Axes>"
      ]
     },
     "metadata": {
      "needs_background": "light"
     },
     "output_type": "display_data"
    }
   ],
   "source": [
    "plt.figure(figsize = (8,8))\n",
    "sns.boxplot(x = 'price', data = dfx)\n",
    "plt.title(\"Repartition of the price after deleting price over 1 million\")\n",
    "plt.show();"
   ]
  },
  {
   "cell_type": "code",
   "execution_count": 76,
   "metadata": {},
   "outputs": [
    {
     "data": {
      "text/plain": [
       "<Figure size 576x576 with 0 Axes>"
      ]
     },
     "metadata": {},
     "output_type": "display_data"
    },
    {
     "data": {
      "image/png": "[encoded data removed]",
      "text/plain": [
       "<Figure size 360x360 with 1 Axes>"
      ]
     },
     "metadata": {
      "needs_background": "light"
     },
     "output_type": "display_data"
    }
   ],
   "source": [
    "plt.figure(figsize = (8,8))\n",
    "sns.displot(x = 'price', data = dfx);\n",
    "plt.title(\"Repartition of the price after deleting price over 1 million\")\n",
    "plt.show()"
   ]
  },
  {
   "cell_type": "markdown",
   "metadata": {},
   "source": [
    "### Odometer"
   ]
  },
  {
   "cell_type": "code",
   "execution_count": 77,
   "metadata": {},
   "outputs": [
    {
     "data": {
      "text/plain": [
       "count    4.209290e+05\n",
       "mean     1.037246e+05\n",
       "std      3.158665e+06\n",
       "min      0.000000e+00\n",
       "25%      4.800000e+04\n",
       "50%      1.003870e+05\n",
       "75%      1.295980e+05\n",
       "max      2.043756e+09\n",
       "Name: odometer, dtype: float64"
      ]
     },
     "execution_count": 77,
     "metadata": {},
     "output_type": "execute_result"
    }
   ],
   "source": [
    "dfx['odometer'].describe()"
   ]
  },
  {
   "cell_type": "markdown",
   "metadata": {},
   "source": [
    "Since, Odometer too contains unnecessary data. In a real case sceneraio we never see a vechicle which is driven for a billion KM, which is incorrect data. Usually, a car with driven more than 100,000 Km no one would be willing to buy that car. So we will be selecting the odometer from 500 Km - 500,000 KM. "
   ]
  },
  {
   "cell_type": "code",
   "execution_count": 78,
   "metadata": {},
   "outputs": [],
   "source": [
    "dfx = dfx[(dfx['odometer'] >= 500) & (dfx['odometer'] <= 500000)]"
   ]
  },
  {
   "cell_type": "code",
   "execution_count": 79,
   "metadata": {},
   "outputs": [
    {
     "data": {
      "text/plain": [
       "<Figure size 576x576 with 0 Axes>"
      ]
     },
     "metadata": {},
     "output_type": "display_data"
    },
    {
     "data": {
      "image/png": "[encoded data removed]",
      "text/plain": [
       "<Figure size 360x360 with 1 Axes>"
      ]
     },
     "metadata": {
      "needs_background": "light"
     },
     "output_type": "display_data"
    }
   ],
   "source": [
    "plt.figure(figsize = (8,8))\n",
    "sns.displot(dfx['odometer']);"
   ]
  },
  {
   "cell_type": "code",
   "execution_count": 80,
   "metadata": {},
   "outputs": [
    {
     "data": {
      "text/html": [
       "<div>\n",
       "<style scoped>\n",
       "    .dataframe tbody tr th:only-of-type {\n",
       "        vertical-align: middle;\n",
       "    }\n",
       "\n",
       "    .dataframe tbody tr th {\n",
       "        vertical-align: top;\n",
       "    }\n",
       "\n",
       "    .dataframe thead th {\n",
       "        text-align: right;\n",
       "    }\n",
       "</style>\n",
       "<table border=\"1\" class=\"dataframe\">\n",
       "  <thead>\n",
       "    <tr style=\"text-align: right;\">\n",
       "      <th></th>\n",
       "      <th>Unnamed: 0</th>\n",
       "      <th>id</th>\n",
       "      <th>price</th>\n",
       "      <th>year</th>\n",
       "      <th>odometer</th>\n",
       "    </tr>\n",
       "  </thead>\n",
       "  <tbody>\n",
       "    <tr>\n",
       "      <th>count</th>\n",
       "      <td>412627.000000</td>\n",
       "      <td>4.126270e+05</td>\n",
       "      <td>412627.000000</td>\n",
       "      <td>412627.000000</td>\n",
       "      <td>412627.000000</td>\n",
       "    </tr>\n",
       "    <tr>\n",
       "      <th>mean</th>\n",
       "      <td>228320.299035</td>\n",
       "      <td>7.235242e+09</td>\n",
       "      <td>15928.156279</td>\n",
       "      <td>2010.593432</td>\n",
       "      <td>97000.823191</td>\n",
       "    </tr>\n",
       "    <tr>\n",
       "      <th>std</th>\n",
       "      <td>132094.596317</td>\n",
       "      <td>4.592402e+06</td>\n",
       "      <td>12916.896967</td>\n",
       "      <td>8.750108</td>\n",
       "      <td>58094.037624</td>\n",
       "    </tr>\n",
       "    <tr>\n",
       "      <th>min</th>\n",
       "      <td>0.000000</td>\n",
       "      <td>7.208550e+09</td>\n",
       "      <td>100.000000</td>\n",
       "      <td>1900.000000</td>\n",
       "      <td>500.000000</td>\n",
       "    </tr>\n",
       "    <tr>\n",
       "      <th>25%</th>\n",
       "      <td>114141.500000</td>\n",
       "      <td>7.231974e+09</td>\n",
       "      <td>5999.000000</td>\n",
       "      <td>2008.000000</td>\n",
       "      <td>50745.000000</td>\n",
       "    </tr>\n",
       "    <tr>\n",
       "      <th>50%</th>\n",
       "      <td>226400.000000</td>\n",
       "      <td>7.236420e+09</td>\n",
       "      <td>12500.000000</td>\n",
       "      <td>2013.000000</td>\n",
       "      <td>101669.756941</td>\n",
       "    </tr>\n",
       "    <tr>\n",
       "      <th>75%</th>\n",
       "      <td>342731.500000</td>\n",
       "      <td>7.239327e+09</td>\n",
       "      <td>22900.000000</td>\n",
       "      <td>2016.000000</td>\n",
       "      <td>130000.000000</td>\n",
       "    </tr>\n",
       "    <tr>\n",
       "      <th>max</th>\n",
       "      <td>458212.000000</td>\n",
       "      <td>7.241019e+09</td>\n",
       "      <td>100000.000000</td>\n",
       "      <td>2021.000000</td>\n",
       "      <td>500000.000000</td>\n",
       "    </tr>\n",
       "  </tbody>\n",
       "</table>\n",
       "</div>"
      ],
      "text/plain": [
       "          Unnamed: 0            id          price           year  \\\n",
       "count  412627.000000  4.126270e+05  412627.000000  412627.000000   \n",
       "mean   228320.299035  7.235242e+09   15928.156279    2010.593432   \n",
       "std    132094.596317  4.592402e+06   12916.896967       8.750108   \n",
       "min         0.000000  7.208550e+09     100.000000    1900.000000   \n",
       "25%    114141.500000  7.231974e+09    5999.000000    2008.000000   \n",
       "50%    226400.000000  7.236420e+09   12500.000000    2013.000000   \n",
       "75%    342731.500000  7.239327e+09   22900.000000    2016.000000   \n",
       "max    458212.000000  7.241019e+09  100000.000000    2021.000000   \n",
       "\n",
       "            odometer  \n",
       "count  412627.000000  \n",
       "mean    97000.823191  \n",
       "std     58094.037624  \n",
       "min       500.000000  \n",
       "25%     50745.000000  \n",
       "50%    101669.756941  \n",
       "75%    130000.000000  \n",
       "max    500000.000000  "
      ]
     },
     "execution_count": 80,
     "metadata": {},
     "output_type": "execute_result"
    }
   ],
   "source": [
    "dfx.describe()"
   ]
  },
  {
   "cell_type": "markdown",
   "metadata": {},
   "source": [
    "# Feature Engineering"
   ]
  },
  {
   "cell_type": "code",
   "execution_count": 81,
   "metadata": {},
   "outputs": [
    {
     "data": {
      "text/html": [
       "<div>\n",
       "<style scoped>\n",
       "    .dataframe tbody tr th:only-of-type {\n",
       "        vertical-align: middle;\n",
       "    }\n",
       "\n",
       "    .dataframe tbody tr th {\n",
       "        vertical-align: top;\n",
       "    }\n",
       "\n",
       "    .dataframe thead th {\n",
       "        text-align: right;\n",
       "    }\n",
       "</style>\n",
       "<table border=\"1\" class=\"dataframe\">\n",
       "  <thead>\n",
       "    <tr style=\"text-align: right;\">\n",
       "      <th></th>\n",
       "      <th>Unnamed: 0</th>\n",
       "      <th>id</th>\n",
       "      <th>region</th>\n",
       "      <th>price</th>\n",
       "      <th>year</th>\n",
       "      <th>manufacturer</th>\n",
       "      <th>model</th>\n",
       "      <th>condition</th>\n",
       "      <th>cylinders</th>\n",
       "      <th>fuel</th>\n",
       "      <th>odometer</th>\n",
       "      <th>transmission</th>\n",
       "      <th>drive</th>\n",
       "      <th>size</th>\n",
       "      <th>type</th>\n",
       "      <th>paint_color</th>\n",
       "      <th>state</th>\n",
       "    </tr>\n",
       "  </thead>\n",
       "  <tbody>\n",
       "    <tr>\n",
       "      <th>0</th>\n",
       "      <td>0</td>\n",
       "      <td>7240372487</td>\n",
       "      <td>auburn</td>\n",
       "      <td>35990</td>\n",
       "      <td>2010.0</td>\n",
       "      <td>chevrolet</td>\n",
       "      <td>corvette grand sport</td>\n",
       "      <td>good</td>\n",
       "      <td>8 cylinders</td>\n",
       "      <td>gas</td>\n",
       "      <td>32742.0</td>\n",
       "      <td>other</td>\n",
       "      <td>rwd</td>\n",
       "      <td>full-size</td>\n",
       "      <td>other</td>\n",
       "      <td>white</td>\n",
       "      <td>al</td>\n",
       "    </tr>\n",
       "    <tr>\n",
       "      <th>1</th>\n",
       "      <td>1</td>\n",
       "      <td>7240309422</td>\n",
       "      <td>auburn</td>\n",
       "      <td>7500</td>\n",
       "      <td>2014.0</td>\n",
       "      <td>hyundai</td>\n",
       "      <td>sonata</td>\n",
       "      <td>excellent</td>\n",
       "      <td>4 cylinders</td>\n",
       "      <td>gas</td>\n",
       "      <td>93600.0</td>\n",
       "      <td>automatic</td>\n",
       "      <td>fwd</td>\n",
       "      <td>full-size</td>\n",
       "      <td>sedan</td>\n",
       "      <td>white</td>\n",
       "      <td>al</td>\n",
       "    </tr>\n",
       "    <tr>\n",
       "      <th>2</th>\n",
       "      <td>2</td>\n",
       "      <td>7240224296</td>\n",
       "      <td>auburn</td>\n",
       "      <td>4900</td>\n",
       "      <td>2006.0</td>\n",
       "      <td>bmw</td>\n",
       "      <td>x3 3.0i</td>\n",
       "      <td>good</td>\n",
       "      <td>6 cylinders</td>\n",
       "      <td>gas</td>\n",
       "      <td>87046.0</td>\n",
       "      <td>automatic</td>\n",
       "      <td>4wd</td>\n",
       "      <td>full-size</td>\n",
       "      <td>SUV</td>\n",
       "      <td>blue</td>\n",
       "      <td>al</td>\n",
       "    </tr>\n",
       "    <tr>\n",
       "      <th>3</th>\n",
       "      <td>3</td>\n",
       "      <td>7240103965</td>\n",
       "      <td>auburn</td>\n",
       "      <td>2000</td>\n",
       "      <td>1974.0</td>\n",
       "      <td>chevrolet</td>\n",
       "      <td>c-10</td>\n",
       "      <td>good</td>\n",
       "      <td>4 cylinders</td>\n",
       "      <td>gas</td>\n",
       "      <td>190000.0</td>\n",
       "      <td>automatic</td>\n",
       "      <td>rwd</td>\n",
       "      <td>full-size</td>\n",
       "      <td>pickup</td>\n",
       "      <td>blue</td>\n",
       "      <td>al</td>\n",
       "    </tr>\n",
       "    <tr>\n",
       "      <th>4</th>\n",
       "      <td>4</td>\n",
       "      <td>7239983776</td>\n",
       "      <td>auburn</td>\n",
       "      <td>19500</td>\n",
       "      <td>2005.0</td>\n",
       "      <td>ford</td>\n",
       "      <td>f350 lariat</td>\n",
       "      <td>excellent</td>\n",
       "      <td>8 cylinders</td>\n",
       "      <td>diesel</td>\n",
       "      <td>116000.0</td>\n",
       "      <td>automatic</td>\n",
       "      <td>4wd</td>\n",
       "      <td>full-size</td>\n",
       "      <td>pickup</td>\n",
       "      <td>blue</td>\n",
       "      <td>al</td>\n",
       "    </tr>\n",
       "  </tbody>\n",
       "</table>\n",
       "</div>"
      ],
      "text/plain": [
       "   Unnamed: 0          id  region  price    year manufacturer  \\\n",
       "0           0  7240372487  auburn  35990  2010.0    chevrolet   \n",
       "1           1  7240309422  auburn   7500  2014.0      hyundai   \n",
       "2           2  7240224296  auburn   4900  2006.0          bmw   \n",
       "3           3  7240103965  auburn   2000  1974.0    chevrolet   \n",
       "4           4  7239983776  auburn  19500  2005.0         ford   \n",
       "\n",
       "                  model  condition    cylinders    fuel  odometer  \\\n",
       "0  corvette grand sport       good  8 cylinders     gas   32742.0   \n",
       "1                sonata  excellent  4 cylinders     gas   93600.0   \n",
       "2               x3 3.0i       good  6 cylinders     gas   87046.0   \n",
       "3                  c-10       good  4 cylinders     gas  190000.0   \n",
       "4           f350 lariat  excellent  8 cylinders  diesel  116000.0   \n",
       "\n",
       "  transmission drive       size    type paint_color state  \n",
       "0        other   rwd  full-size   other       white    al  \n",
       "1    automatic   fwd  full-size   sedan       white    al  \n",
       "2    automatic   4wd  full-size     SUV        blue    al  \n",
       "3    automatic   rwd  full-size  pickup        blue    al  \n",
       "4    automatic   4wd  full-size  pickup        blue    al  "
      ]
     },
     "execution_count": 81,
     "metadata": {},
     "output_type": "execute_result"
    }
   ],
   "source": [
    "dfx.head()"
   ]
  },
  {
   "cell_type": "markdown",
   "metadata": {},
   "source": [
    "<b> We have car year, when the car was bought so according to this we can create new feature car_age </b>"
   ]
  },
  {
   "cell_type": "code",
   "execution_count": 82,
   "metadata": {},
   "outputs": [],
   "source": [
    "## First of all changing float year i.e (2010.0) to integer (2010)\n",
    "\n",
    "yrs = [int(year) for year in dfx['year']]"
   ]
  },
  {
   "cell_type": "code",
   "execution_count": 83,
   "metadata": {},
   "outputs": [],
   "source": [
    "dfx['year'] = yrs"
   ]
  },
  {
   "cell_type": "code",
   "execution_count": 84,
   "metadata": {},
   "outputs": [
    {
     "data": {
      "text/html": [
       "<div>\n",
       "<style scoped>\n",
       "    .dataframe tbody tr th:only-of-type {\n",
       "        vertical-align: middle;\n",
       "    }\n",
       "\n",
       "    .dataframe tbody tr th {\n",
       "        vertical-align: top;\n",
       "    }\n",
       "\n",
       "    .dataframe thead th {\n",
       "        text-align: right;\n",
       "    }\n",
       "</style>\n",
       "<table border=\"1\" class=\"dataframe\">\n",
       "  <thead>\n",
       "    <tr style=\"text-align: right;\">\n",
       "      <th></th>\n",
       "      <th>Unnamed: 0</th>\n",
       "      <th>id</th>\n",
       "      <th>region</th>\n",
       "      <th>price</th>\n",
       "      <th>year</th>\n",
       "      <th>manufacturer</th>\n",
       "      <th>model</th>\n",
       "      <th>condition</th>\n",
       "      <th>cylinders</th>\n",
       "      <th>fuel</th>\n",
       "      <th>odometer</th>\n",
       "      <th>transmission</th>\n",
       "      <th>drive</th>\n",
       "      <th>size</th>\n",
       "      <th>type</th>\n",
       "      <th>paint_color</th>\n",
       "      <th>state</th>\n",
       "    </tr>\n",
       "  </thead>\n",
       "  <tbody>\n",
       "    <tr>\n",
       "      <th>0</th>\n",
       "      <td>0</td>\n",
       "      <td>7240372487</td>\n",
       "      <td>auburn</td>\n",
       "      <td>35990</td>\n",
       "      <td>2010</td>\n",
       "      <td>chevrolet</td>\n",
       "      <td>corvette grand sport</td>\n",
       "      <td>good</td>\n",
       "      <td>8 cylinders</td>\n",
       "      <td>gas</td>\n",
       "      <td>32742.0</td>\n",
       "      <td>other</td>\n",
       "      <td>rwd</td>\n",
       "      <td>full-size</td>\n",
       "      <td>other</td>\n",
       "      <td>white</td>\n",
       "      <td>al</td>\n",
       "    </tr>\n",
       "    <tr>\n",
       "      <th>1</th>\n",
       "      <td>1</td>\n",
       "      <td>7240309422</td>\n",
       "      <td>auburn</td>\n",
       "      <td>7500</td>\n",
       "      <td>2014</td>\n",
       "      <td>hyundai</td>\n",
       "      <td>sonata</td>\n",
       "      <td>excellent</td>\n",
       "      <td>4 cylinders</td>\n",
       "      <td>gas</td>\n",
       "      <td>93600.0</td>\n",
       "      <td>automatic</td>\n",
       "      <td>fwd</td>\n",
       "      <td>full-size</td>\n",
       "      <td>sedan</td>\n",
       "      <td>white</td>\n",
       "      <td>al</td>\n",
       "    </tr>\n",
       "    <tr>\n",
       "      <th>2</th>\n",
       "      <td>2</td>\n",
       "      <td>7240224296</td>\n",
       "      <td>auburn</td>\n",
       "      <td>4900</td>\n",
       "      <td>2006</td>\n",
       "      <td>bmw</td>\n",
       "      <td>x3 3.0i</td>\n",
       "      <td>good</td>\n",
       "      <td>6 cylinders</td>\n",
       "      <td>gas</td>\n",
       "      <td>87046.0</td>\n",
       "      <td>automatic</td>\n",
       "      <td>4wd</td>\n",
       "      <td>full-size</td>\n",
       "      <td>SUV</td>\n",
       "      <td>blue</td>\n",
       "      <td>al</td>\n",
       "    </tr>\n",
       "    <tr>\n",
       "      <th>3</th>\n",
       "      <td>3</td>\n",
       "      <td>7240103965</td>\n",
       "      <td>auburn</td>\n",
       "      <td>2000</td>\n",
       "      <td>1974</td>\n",
       "      <td>chevrolet</td>\n",
       "      <td>c-10</td>\n",
       "      <td>good</td>\n",
       "      <td>4 cylinders</td>\n",
       "      <td>gas</td>\n",
       "      <td>190000.0</td>\n",
       "      <td>automatic</td>\n",
       "      <td>rwd</td>\n",
       "      <td>full-size</td>\n",
       "      <td>pickup</td>\n",
       "      <td>blue</td>\n",
       "      <td>al</td>\n",
       "    </tr>\n",
       "    <tr>\n",
       "      <th>4</th>\n",
       "      <td>4</td>\n",
       "      <td>7239983776</td>\n",
       "      <td>auburn</td>\n",
       "      <td>19500</td>\n",
       "      <td>2005</td>\n",
       "      <td>ford</td>\n",
       "      <td>f350 lariat</td>\n",
       "      <td>excellent</td>\n",
       "      <td>8 cylinders</td>\n",
       "      <td>diesel</td>\n",
       "      <td>116000.0</td>\n",
       "      <td>automatic</td>\n",
       "      <td>4wd</td>\n",
       "      <td>full-size</td>\n",
       "      <td>pickup</td>\n",
       "      <td>blue</td>\n",
       "      <td>al</td>\n",
       "    </tr>\n",
       "  </tbody>\n",
       "</table>\n",
       "</div>"
      ],
      "text/plain": [
       "   Unnamed: 0          id  region  price  year manufacturer  \\\n",
       "0           0  7240372487  auburn  35990  2010    chevrolet   \n",
       "1           1  7240309422  auburn   7500  2014      hyundai   \n",
       "2           2  7240224296  auburn   4900  2006          bmw   \n",
       "3           3  7240103965  auburn   2000  1974    chevrolet   \n",
       "4           4  7239983776  auburn  19500  2005         ford   \n",
       "\n",
       "                  model  condition    cylinders    fuel  odometer  \\\n",
       "0  corvette grand sport       good  8 cylinders     gas   32742.0   \n",
       "1                sonata  excellent  4 cylinders     gas   93600.0   \n",
       "2               x3 3.0i       good  6 cylinders     gas   87046.0   \n",
       "3                  c-10       good  4 cylinders     gas  190000.0   \n",
       "4           f350 lariat  excellent  8 cylinders  diesel  116000.0   \n",
       "\n",
       "  transmission drive       size    type paint_color state  \n",
       "0        other   rwd  full-size   other       white    al  \n",
       "1    automatic   fwd  full-size   sedan       white    al  \n",
       "2    automatic   4wd  full-size     SUV        blue    al  \n",
       "3    automatic   rwd  full-size  pickup        blue    al  \n",
       "4    automatic   4wd  full-size  pickup        blue    al  "
      ]
     },
     "execution_count": 84,
     "metadata": {},
     "output_type": "execute_result"
    }
   ],
   "source": [
    "dfx.head()"
   ]
  },
  {
   "cell_type": "code",
   "execution_count": 85,
   "metadata": {},
   "outputs": [],
   "source": [
    "dfx['car_age'] = 2021 - dfx['year']"
   ]
  },
  {
   "cell_type": "code",
   "execution_count": 86,
   "metadata": {},
   "outputs": [
    {
     "data": {
      "text/html": [
       "<div>\n",
       "<style scoped>\n",
       "    .dataframe tbody tr th:only-of-type {\n",
       "        vertical-align: middle;\n",
       "    }\n",
       "\n",
       "    .dataframe tbody tr th {\n",
       "        vertical-align: top;\n",
       "    }\n",
       "\n",
       "    .dataframe thead th {\n",
       "        text-align: right;\n",
       "    }\n",
       "</style>\n",
       "<table border=\"1\" class=\"dataframe\">\n",
       "  <thead>\n",
       "    <tr style=\"text-align: right;\">\n",
       "      <th></th>\n",
       "      <th>Unnamed: 0</th>\n",
       "      <th>id</th>\n",
       "      <th>region</th>\n",
       "      <th>price</th>\n",
       "      <th>year</th>\n",
       "      <th>manufacturer</th>\n",
       "      <th>model</th>\n",
       "      <th>condition</th>\n",
       "      <th>cylinders</th>\n",
       "      <th>fuel</th>\n",
       "      <th>odometer</th>\n",
       "      <th>transmission</th>\n",
       "      <th>drive</th>\n",
       "      <th>size</th>\n",
       "      <th>type</th>\n",
       "      <th>paint_color</th>\n",
       "      <th>state</th>\n",
       "      <th>car_age</th>\n",
       "    </tr>\n",
       "  </thead>\n",
       "  <tbody>\n",
       "    <tr>\n",
       "      <th>0</th>\n",
       "      <td>0</td>\n",
       "      <td>7240372487</td>\n",
       "      <td>auburn</td>\n",
       "      <td>35990</td>\n",
       "      <td>2010</td>\n",
       "      <td>chevrolet</td>\n",
       "      <td>corvette grand sport</td>\n",
       "      <td>good</td>\n",
       "      <td>8 cylinders</td>\n",
       "      <td>gas</td>\n",
       "      <td>32742.0</td>\n",
       "      <td>other</td>\n",
       "      <td>rwd</td>\n",
       "      <td>full-size</td>\n",
       "      <td>other</td>\n",
       "      <td>white</td>\n",
       "      <td>al</td>\n",
       "      <td>11</td>\n",
       "    </tr>\n",
       "    <tr>\n",
       "      <th>1</th>\n",
       "      <td>1</td>\n",
       "      <td>7240309422</td>\n",
       "      <td>auburn</td>\n",
       "      <td>7500</td>\n",
       "      <td>2014</td>\n",
       "      <td>hyundai</td>\n",
       "      <td>sonata</td>\n",
       "      <td>excellent</td>\n",
       "      <td>4 cylinders</td>\n",
       "      <td>gas</td>\n",
       "      <td>93600.0</td>\n",
       "      <td>automatic</td>\n",
       "      <td>fwd</td>\n",
       "      <td>full-size</td>\n",
       "      <td>sedan</td>\n",
       "      <td>white</td>\n",
       "      <td>al</td>\n",
       "      <td>7</td>\n",
       "    </tr>\n",
       "    <tr>\n",
       "      <th>2</th>\n",
       "      <td>2</td>\n",
       "      <td>7240224296</td>\n",
       "      <td>auburn</td>\n",
       "      <td>4900</td>\n",
       "      <td>2006</td>\n",
       "      <td>bmw</td>\n",
       "      <td>x3 3.0i</td>\n",
       "      <td>good</td>\n",
       "      <td>6 cylinders</td>\n",
       "      <td>gas</td>\n",
       "      <td>87046.0</td>\n",
       "      <td>automatic</td>\n",
       "      <td>4wd</td>\n",
       "      <td>full-size</td>\n",
       "      <td>SUV</td>\n",
       "      <td>blue</td>\n",
       "      <td>al</td>\n",
       "      <td>15</td>\n",
       "    </tr>\n",
       "    <tr>\n",
       "      <th>3</th>\n",
       "      <td>3</td>\n",
       "      <td>7240103965</td>\n",
       "      <td>auburn</td>\n",
       "      <td>2000</td>\n",
       "      <td>1974</td>\n",
       "      <td>chevrolet</td>\n",
       "      <td>c-10</td>\n",
       "      <td>good</td>\n",
       "      <td>4 cylinders</td>\n",
       "      <td>gas</td>\n",
       "      <td>190000.0</td>\n",
       "      <td>automatic</td>\n",
       "      <td>rwd</td>\n",
       "      <td>full-size</td>\n",
       "      <td>pickup</td>\n",
       "      <td>blue</td>\n",
       "      <td>al</td>\n",
       "      <td>47</td>\n",
       "    </tr>\n",
       "    <tr>\n",
       "      <th>4</th>\n",
       "      <td>4</td>\n",
       "      <td>7239983776</td>\n",
       "      <td>auburn</td>\n",
       "      <td>19500</td>\n",
       "      <td>2005</td>\n",
       "      <td>ford</td>\n",
       "      <td>f350 lariat</td>\n",
       "      <td>excellent</td>\n",
       "      <td>8 cylinders</td>\n",
       "      <td>diesel</td>\n",
       "      <td>116000.0</td>\n",
       "      <td>automatic</td>\n",
       "      <td>4wd</td>\n",
       "      <td>full-size</td>\n",
       "      <td>pickup</td>\n",
       "      <td>blue</td>\n",
       "      <td>al</td>\n",
       "      <td>16</td>\n",
       "    </tr>\n",
       "  </tbody>\n",
       "</table>\n",
       "</div>"
      ],
      "text/plain": [
       "   Unnamed: 0          id  region  price  year manufacturer  \\\n",
       "0           0  7240372487  auburn  35990  2010    chevrolet   \n",
       "1           1  7240309422  auburn   7500  2014      hyundai   \n",
       "2           2  7240224296  auburn   4900  2006          bmw   \n",
       "3           3  7240103965  auburn   2000  1974    chevrolet   \n",
       "4           4  7239983776  auburn  19500  2005         ford   \n",
       "\n",
       "                  model  condition    cylinders    fuel  odometer  \\\n",
       "0  corvette grand sport       good  8 cylinders     gas   32742.0   \n",
       "1                sonata  excellent  4 cylinders     gas   93600.0   \n",
       "2               x3 3.0i       good  6 cylinders     gas   87046.0   \n",
       "3                  c-10       good  4 cylinders     gas  190000.0   \n",
       "4           f350 lariat  excellent  8 cylinders  diesel  116000.0   \n",
       "\n",
       "  transmission drive       size    type paint_color state  car_age  \n",
       "0        other   rwd  full-size   other       white    al       11  \n",
       "1    automatic   fwd  full-size   sedan       white    al        7  \n",
       "2    automatic   4wd  full-size     SUV        blue    al       15  \n",
       "3    automatic   rwd  full-size  pickup        blue    al       47  \n",
       "4    automatic   4wd  full-size  pickup        blue    al       16  "
      ]
     },
     "execution_count": 86,
     "metadata": {},
     "output_type": "execute_result"
    }
   ],
   "source": [
    "dfx.head()"
   ]
  },
  {
   "cell_type": "markdown",
   "metadata": {},
   "source": [
    "<b> Dropping year column </b>"
   ]
  },
  {
   "cell_type": "code",
   "execution_count": 87,
   "metadata": {},
   "outputs": [],
   "source": [
    "dfx = dfx.drop(['year'], axis = 1)"
   ]
  },
  {
   "cell_type": "markdown",
   "metadata": {},
   "source": [
    "<b> Removing text 'cylinders' from column cylinders and  </b> [eg: it is given 8 cylinders, we will make it 8]"
   ]
  },
  {
   "cell_type": "code",
   "execution_count": 88,
   "metadata": {},
   "outputs": [
    {
     "data": {
      "text/plain": [
       "6 cylinders     246985\n",
       "4 cylinders      87602\n",
       "8 cylinders      73438\n",
       "5 cylinders       1979\n",
       "10 cylinders      1133\n",
       "other              874\n",
       "3 cylinders        467\n",
       "12 cylinders       149\n",
       "Name: cylinders, dtype: int64"
      ]
     },
     "execution_count": 88,
     "metadata": {},
     "output_type": "execute_result"
    }
   ],
   "source": [
    "dfx['cylinders'].value_counts()"
   ]
  },
  {
   "cell_type": "markdown",
   "metadata": {},
   "source": [
    "<b> Since there are 874 other cylinders which is unusefull, so replacing other with 6 cylinders as majority of 6 cylinders engine capacity car is sold </b>"
   ]
  },
  {
   "cell_type": "code",
   "execution_count": 89,
   "metadata": {},
   "outputs": [],
   "source": [
    "dfx['cylinders'] = [cylinders.replace('other','6') for cylinders in dfx['cylinders']]"
   ]
  },
  {
   "cell_type": "code",
   "execution_count": 90,
   "metadata": {},
   "outputs": [
    {
     "data": {
      "text/plain": [
       "6 cylinders     246985\n",
       "4 cylinders      87602\n",
       "8 cylinders      73438\n",
       "5 cylinders       1979\n",
       "10 cylinders      1133\n",
       "6                  874\n",
       "3 cylinders        467\n",
       "12 cylinders       149\n",
       "Name: cylinders, dtype: int64"
      ]
     },
     "execution_count": 90,
     "metadata": {},
     "output_type": "execute_result"
    }
   ],
   "source": [
    "dfx['cylinders'].value_counts()"
   ]
  },
  {
   "cell_type": "code",
   "execution_count": 91,
   "metadata": {},
   "outputs": [],
   "source": [
    "dfx['cylinders'] = [cylinders.replace('cylinders','') for cylinders in dfx['cylinders']]"
   ]
  },
  {
   "cell_type": "code",
   "execution_count": 92,
   "metadata": {},
   "outputs": [
    {
     "data": {
      "text/plain": [
       "6      246985\n",
       "4       87602\n",
       "8       73438\n",
       "5        1979\n",
       "10       1133\n",
       "6         874\n",
       "3         467\n",
       "12        149\n",
       "Name: cylinders, dtype: int64"
      ]
     },
     "execution_count": 92,
     "metadata": {},
     "output_type": "execute_result"
    }
   ],
   "source": [
    "dfx['cylinders'].value_counts()"
   ]
  },
  {
   "cell_type": "code",
   "execution_count": 93,
   "metadata": {},
   "outputs": [],
   "source": [
    "## Changing cylinders from string to integer"
   ]
  },
  {
   "cell_type": "code",
   "execution_count": 94,
   "metadata": {},
   "outputs": [],
   "source": [
    "dfx['cylinders'] = [int(cylinders) for cylinders in dfx['cylinders']]"
   ]
  },
  {
   "cell_type": "code",
   "execution_count": 95,
   "metadata": {},
   "outputs": [
    {
     "data": {
      "text/plain": [
       "6     247859\n",
       "4      87602\n",
       "8      73438\n",
       "5       1979\n",
       "10      1133\n",
       "3        467\n",
       "12       149\n",
       "Name: cylinders, dtype: int64"
      ]
     },
     "execution_count": 95,
     "metadata": {},
     "output_type": "execute_result"
    }
   ],
   "source": [
    "dfx['cylinders'].value_counts()"
   ]
  },
  {
   "cell_type": "code",
   "execution_count": 96,
   "metadata": {},
   "outputs": [
    {
     "data": {
      "text/html": [
       "<div>\n",
       "<style scoped>\n",
       "    .dataframe tbody tr th:only-of-type {\n",
       "        vertical-align: middle;\n",
       "    }\n",
       "\n",
       "    .dataframe tbody tr th {\n",
       "        vertical-align: top;\n",
       "    }\n",
       "\n",
       "    .dataframe thead th {\n",
       "        text-align: right;\n",
       "    }\n",
       "</style>\n",
       "<table border=\"1\" class=\"dataframe\">\n",
       "  <thead>\n",
       "    <tr style=\"text-align: right;\">\n",
       "      <th></th>\n",
       "      <th>Unnamed: 0</th>\n",
       "      <th>id</th>\n",
       "      <th>region</th>\n",
       "      <th>price</th>\n",
       "      <th>manufacturer</th>\n",
       "      <th>model</th>\n",
       "      <th>condition</th>\n",
       "      <th>cylinders</th>\n",
       "      <th>fuel</th>\n",
       "      <th>odometer</th>\n",
       "      <th>transmission</th>\n",
       "      <th>drive</th>\n",
       "      <th>size</th>\n",
       "      <th>type</th>\n",
       "      <th>paint_color</th>\n",
       "      <th>state</th>\n",
       "      <th>car_age</th>\n",
       "    </tr>\n",
       "  </thead>\n",
       "  <tbody>\n",
       "    <tr>\n",
       "      <th>0</th>\n",
       "      <td>0</td>\n",
       "      <td>7240372487</td>\n",
       "      <td>auburn</td>\n",
       "      <td>35990</td>\n",
       "      <td>chevrolet</td>\n",
       "      <td>corvette grand sport</td>\n",
       "      <td>good</td>\n",
       "      <td>8</td>\n",
       "      <td>gas</td>\n",
       "      <td>32742.0</td>\n",
       "      <td>other</td>\n",
       "      <td>rwd</td>\n",
       "      <td>full-size</td>\n",
       "      <td>other</td>\n",
       "      <td>white</td>\n",
       "      <td>al</td>\n",
       "      <td>11</td>\n",
       "    </tr>\n",
       "    <tr>\n",
       "      <th>1</th>\n",
       "      <td>1</td>\n",
       "      <td>7240309422</td>\n",
       "      <td>auburn</td>\n",
       "      <td>7500</td>\n",
       "      <td>hyundai</td>\n",
       "      <td>sonata</td>\n",
       "      <td>excellent</td>\n",
       "      <td>4</td>\n",
       "      <td>gas</td>\n",
       "      <td>93600.0</td>\n",
       "      <td>automatic</td>\n",
       "      <td>fwd</td>\n",
       "      <td>full-size</td>\n",
       "      <td>sedan</td>\n",
       "      <td>white</td>\n",
       "      <td>al</td>\n",
       "      <td>7</td>\n",
       "    </tr>\n",
       "    <tr>\n",
       "      <th>2</th>\n",
       "      <td>2</td>\n",
       "      <td>7240224296</td>\n",
       "      <td>auburn</td>\n",
       "      <td>4900</td>\n",
       "      <td>bmw</td>\n",
       "      <td>x3 3.0i</td>\n",
       "      <td>good</td>\n",
       "      <td>6</td>\n",
       "      <td>gas</td>\n",
       "      <td>87046.0</td>\n",
       "      <td>automatic</td>\n",
       "      <td>4wd</td>\n",
       "      <td>full-size</td>\n",
       "      <td>SUV</td>\n",
       "      <td>blue</td>\n",
       "      <td>al</td>\n",
       "      <td>15</td>\n",
       "    </tr>\n",
       "    <tr>\n",
       "      <th>3</th>\n",
       "      <td>3</td>\n",
       "      <td>7240103965</td>\n",
       "      <td>auburn</td>\n",
       "      <td>2000</td>\n",
       "      <td>chevrolet</td>\n",
       "      <td>c-10</td>\n",
       "      <td>good</td>\n",
       "      <td>4</td>\n",
       "      <td>gas</td>\n",
       "      <td>190000.0</td>\n",
       "      <td>automatic</td>\n",
       "      <td>rwd</td>\n",
       "      <td>full-size</td>\n",
       "      <td>pickup</td>\n",
       "      <td>blue</td>\n",
       "      <td>al</td>\n",
       "      <td>47</td>\n",
       "    </tr>\n",
       "    <tr>\n",
       "      <th>4</th>\n",
       "      <td>4</td>\n",
       "      <td>7239983776</td>\n",
       "      <td>auburn</td>\n",
       "      <td>19500</td>\n",
       "      <td>ford</td>\n",
       "      <td>f350 lariat</td>\n",
       "      <td>excellent</td>\n",
       "      <td>8</td>\n",
       "      <td>diesel</td>\n",
       "      <td>116000.0</td>\n",
       "      <td>automatic</td>\n",
       "      <td>4wd</td>\n",
       "      <td>full-size</td>\n",
       "      <td>pickup</td>\n",
       "      <td>blue</td>\n",
       "      <td>al</td>\n",
       "      <td>16</td>\n",
       "    </tr>\n",
       "  </tbody>\n",
       "</table>\n",
       "</div>"
      ],
      "text/plain": [
       "   Unnamed: 0          id  region  price manufacturer                 model  \\\n",
       "0           0  7240372487  auburn  35990    chevrolet  corvette grand sport   \n",
       "1           1  7240309422  auburn   7500      hyundai                sonata   \n",
       "2           2  7240224296  auburn   4900          bmw               x3 3.0i   \n",
       "3           3  7240103965  auburn   2000    chevrolet                  c-10   \n",
       "4           4  7239983776  auburn  19500         ford           f350 lariat   \n",
       "\n",
       "   condition  cylinders    fuel  odometer transmission drive       size  \\\n",
       "0       good          8     gas   32742.0        other   rwd  full-size   \n",
       "1  excellent          4     gas   93600.0    automatic   fwd  full-size   \n",
       "2       good          6     gas   87046.0    automatic   4wd  full-size   \n",
       "3       good          4     gas  190000.0    automatic   rwd  full-size   \n",
       "4  excellent          8  diesel  116000.0    automatic   4wd  full-size   \n",
       "\n",
       "     type paint_color state  car_age  \n",
       "0   other       white    al       11  \n",
       "1   sedan       white    al        7  \n",
       "2     SUV        blue    al       15  \n",
       "3  pickup        blue    al       47  \n",
       "4  pickup        blue    al       16  "
      ]
     },
     "execution_count": 96,
     "metadata": {},
     "output_type": "execute_result"
    }
   ],
   "source": [
    "dfx.head()"
   ]
  },
  {
   "cell_type": "markdown",
   "metadata": {},
   "source": [
    "### Condition"
   ]
  },
  {
   "cell_type": "code",
   "execution_count": 97,
   "metadata": {},
   "outputs": [
    {
     "data": {
      "text/plain": [
       "good         276583\n",
       "excellent    105023\n",
       "like new      22085\n",
       "fair           7446\n",
       "new             896\n",
       "salvage         594\n",
       "Name: condition, dtype: int64"
      ]
     },
     "execution_count": 97,
     "metadata": {},
     "output_type": "execute_result"
    }
   ],
   "source": [
    "dfx['condition'].value_counts()"
   ]
  },
  {
   "cell_type": "code",
   "execution_count": 98,
   "metadata": {},
   "outputs": [],
   "source": [
    "## Eyeing on Condition we get to see 6 different categories. Let's set our own categories\n",
    "## Ranking from Excellent, Good, and Salvage"
   ]
  },
  {
   "cell_type": "code",
   "execution_count": 99,
   "metadata": {},
   "outputs": [],
   "source": [
    "dfx['condition'] = [ condition.replace('like new','excellent') for condition in dfx['condition']]"
   ]
  },
  {
   "cell_type": "code",
   "execution_count": 100,
   "metadata": {},
   "outputs": [],
   "source": [
    "dfx['condition'] = [condition.replace('fair','good') for condition in dfx['condition']]"
   ]
  },
  {
   "cell_type": "code",
   "execution_count": 101,
   "metadata": {},
   "outputs": [],
   "source": [
    "dfx['condition'] = [condition.replace('new','excellent') for condition in dfx['condition']]"
   ]
  },
  {
   "cell_type": "code",
   "execution_count": 102,
   "metadata": {},
   "outputs": [
    {
     "data": {
      "text/plain": [
       "good         284029\n",
       "excellent    128004\n",
       "salvage         594\n",
       "Name: condition, dtype: int64"
      ]
     },
     "execution_count": 102,
     "metadata": {},
     "output_type": "execute_result"
    }
   ],
   "source": [
    "dfx['condition'].value_counts()"
   ]
  },
  {
   "cell_type": "code",
   "execution_count": 103,
   "metadata": {},
   "outputs": [
    {
     "data": {
      "text/plain": [
       "gas         365339\n",
       "diesel       26523\n",
       "other        13335\n",
       "hybrid        5276\n",
       "electric      2154\n",
       "Name: fuel, dtype: int64"
      ]
     },
     "execution_count": 103,
     "metadata": {},
     "output_type": "execute_result"
    }
   ],
   "source": [
    "dfx['fuel'].value_counts()"
   ]
  },
  {
   "cell_type": "markdown",
   "metadata": {},
   "source": [
    "Since we don't know what is the other type of fuel they are mentioning. Other might be either hybrid or electric. We will set is as hybrid car."
   ]
  },
  {
   "cell_type": "code",
   "execution_count": 104,
   "metadata": {},
   "outputs": [],
   "source": [
    "dfx['fuel'] = [fuel.replace('other','hybrid') for fuel in dfx['fuel']]"
   ]
  },
  {
   "cell_type": "code",
   "execution_count": 105,
   "metadata": {},
   "outputs": [
    {
     "data": {
      "text/plain": [
       "gas         365339\n",
       "diesel       26523\n",
       "hybrid       18611\n",
       "electric      2154\n",
       "Name: fuel, dtype: int64"
      ]
     },
     "execution_count": 105,
     "metadata": {},
     "output_type": "execute_result"
    }
   ],
   "source": [
    "dfx['fuel'].value_counts()"
   ]
  },
  {
   "cell_type": "markdown",
   "metadata": {},
   "source": [
    "### Transmission"
   ]
  },
  {
   "cell_type": "code",
   "execution_count": 106,
   "metadata": {},
   "outputs": [
    {
     "data": {
      "text/plain": [
       "automatic    357802\n",
       "other         29972\n",
       "manual        24853\n",
       "Name: transmission, dtype: int64"
      ]
     },
     "execution_count": 106,
     "metadata": {},
     "output_type": "execute_result"
    }
   ],
   "source": [
    "dfx['transmission'].value_counts()"
   ]
  },
  {
   "cell_type": "markdown",
   "metadata": {},
   "source": [
    "### Drive"
   ]
  },
  {
   "cell_type": "code",
   "execution_count": 107,
   "metadata": {},
   "outputs": [
    {
     "data": {
      "text/plain": [
       "4wd    244520\n",
       "fwd    111584\n",
       "rwd     56523\n",
       "Name: drive, dtype: int64"
      ]
     },
     "execution_count": 107,
     "metadata": {},
     "output_type": "execute_result"
    }
   ],
   "source": [
    "dfx['drive'].value_counts()"
   ]
  },
  {
   "cell_type": "markdown",
   "metadata": {},
   "source": [
    "### Size"
   ]
  },
  {
   "cell_type": "code",
   "execution_count": 108,
   "metadata": {},
   "outputs": [
    {
     "data": {
      "text/plain": [
       "full-size      352361\n",
       "mid-size        37798\n",
       "compact         19422\n",
       "sub-compact      3046\n",
       "Name: size, dtype: int64"
      ]
     },
     "execution_count": 108,
     "metadata": {},
     "output_type": "execute_result"
    }
   ],
   "source": [
    "dfx['size'].value_counts()"
   ]
  },
  {
   "cell_type": "markdown",
   "metadata": {},
   "source": [
    "### Type"
   ]
  },
  {
   "cell_type": "code",
   "execution_count": 109,
   "metadata": {},
   "outputs": [
    {
     "data": {
      "text/plain": [
       "sedan          184269\n",
       "SUV             72113\n",
       "pickup          40553\n",
       "truck           30140\n",
       "other           21187\n",
       "coupe           17642\n",
       "hatchback       15215\n",
       "wagon            9543\n",
       "van              8578\n",
       "convertible      6339\n",
       "mini-van         5877\n",
       "offroad           600\n",
       "bus               571\n",
       "Name: type, dtype: int64"
      ]
     },
     "execution_count": 109,
     "metadata": {},
     "output_type": "execute_result"
    }
   ],
   "source": [
    "dfx['type'].value_counts()"
   ]
  },
  {
   "cell_type": "markdown",
   "metadata": {},
   "source": [
    "### PaintColor"
   ]
  },
  {
   "cell_type": "code",
   "execution_count": 110,
   "metadata": {},
   "outputs": [
    {
     "data": {
      "text/plain": [
       "white     197032\n",
       "black      58510\n",
       "silver     42816\n",
       "red        30870\n",
       "blue       30122\n",
       "grey       27934\n",
       "custom      8334\n",
       "green       7079\n",
       "brown       5608\n",
       "orange      1798\n",
       "yellow      1796\n",
       "purple       728\n",
       "Name: paint_color, dtype: int64"
      ]
     },
     "execution_count": 110,
     "metadata": {},
     "output_type": "execute_result"
    }
   ],
   "source": [
    "dfx['paint_color'].value_counts()"
   ]
  },
  {
   "cell_type": "markdown",
   "metadata": {},
   "source": [
    "# Data Visualiazation"
   ]
  },
  {
   "cell_type": "markdown",
   "metadata": {},
   "source": [
    "Let's get deep with the data"
   ]
  },
  {
   "cell_type": "code",
   "execution_count": 111,
   "metadata": {},
   "outputs": [
    {
     "data": {
      "image/png": "[encoded data removed]",
      "text/plain": [
       "<Figure size 576x864 with 1 Axes>"
      ]
     },
     "metadata": {
      "needs_background": "light"
     },
     "output_type": "display_data"
    }
   ],
   "source": [
    "plt.figure(figsize = (8,12))\n",
    "sns.countplot(y = 'manufacturer', data = dfx);"
   ]
  },
  {
   "cell_type": "code",
   "execution_count": 112,
   "metadata": {},
   "outputs": [
    {
     "data": {
      "text/plain": [
       "ford               86081\n",
       "chevrolet          58013\n",
       "toyota             35121\n",
       "honda              23462\n",
       "nissan             21077\n",
       "jeep               19245\n",
       "ram                15766\n",
       "gmc                15593\n",
       "dodge              14704\n",
       "bmw                11578\n",
       "subaru              9894\n",
       "volkswagen          9890\n",
       "hyundai             9871\n",
       "mercedes-benz       9590\n",
       "kia                 7904\n",
       "chrysler            6748\n",
       "lexus               6603\n",
       "cadillac            6246\n",
       "buick               5519\n",
       "mazda               5474\n",
       "audi                5151\n",
       "acura               3670\n",
       "infiniti            3345\n",
       "lincoln             3072\n",
       "pontiac             2851\n",
       "volvo               2602\n",
       "mini                2232\n",
       "mitsubishi          1914\n",
       "porsche             1654\n",
       "mercury             1569\n",
       "rover               1540\n",
       "saturn              1315\n",
       "tesla               1017\n",
       "jaguar               987\n",
       "fiat                 886\n",
       "alfa-romeo           173\n",
       "harley-davidson      135\n",
       "datsun                59\n",
       "aston-martin          26\n",
       "ferrari               26\n",
       "land rover            21\n",
       "morgan                 2\n",
       "hennessey              1\n",
       "Name: manufacturer, dtype: int64"
      ]
     },
     "execution_count": 112,
     "metadata": {},
     "output_type": "execute_result"
    }
   ],
   "source": [
    "dfx['manufacturer'].value_counts()"
   ]
  },
  {
   "cell_type": "markdown",
   "metadata": {},
   "source": [
    "<b> As we can see, the top 10 most selling brand are : </b>\n",
    "- Ford\n",
    "- Chevrolet\n",
    "- Toyota\n",
    "- Honda\n",
    "- Nissan\n",
    "- Jeep\n",
    "- Ram\n",
    "- GMC\n",
    "- Dodge\n",
    "- BMW"
   ]
  },
  {
   "cell_type": "code",
   "execution_count": 113,
   "metadata": {},
   "outputs": [
    {
     "data": {
      "image/png": "[encoded data removed]",
      "text/plain": [
       "<Figure size 576x864 with 1 Axes>"
      ]
     },
     "metadata": {
      "needs_background": "light"
     },
     "output_type": "display_data"
    }
   ],
   "source": [
    "plt.figure(figsize = (8,12))\n",
    "sns.barplot(x = 'car_age', y ='manufacturer', data = dfx);"
   ]
  },
  {
   "cell_type": "code",
   "execution_count": 114,
   "metadata": {},
   "outputs": [
    {
     "data": {
      "image/png": "[encoded data removed]",
      "text/plain": [
       "<Figure size 576x1080 with 1 Axes>"
      ]
     },
     "metadata": {
      "needs_background": "light"
     },
     "output_type": "display_data"
    }
   ],
   "source": [
    "plt.figure(figsize = (8,15))\n",
    "sns.barplot(y = 'manufacturer', x = 'price', data = dfx);"
   ]
  },
  {
   "cell_type": "markdown",
   "metadata": {},
   "source": [
    "From the above visualiazation, we can see the higher error bars in ferrari, aston-martin, land rover. Since these are the premium vechicles. Usually people tend to sell their cars on higher margin."
   ]
  },
  {
   "cell_type": "markdown",
   "metadata": {},
   "source": [
    "And we can see, the most expensive cars are:\n",
    "- ferrari\n",
    "- aston-martin\n",
    "- morgan\n",
    "- hennessey\n",
    "- tesla\n",
    "- rover\n",
    "- jaguar\n",
    "    "
   ]
  },
  {
   "cell_type": "code",
   "execution_count": 115,
   "metadata": {},
   "outputs": [
    {
     "data": {
      "image/png": "[encoded data removed]",
      "text/plain": [
       "<Figure size 576x864 with 1 Axes>"
      ]
     },
     "metadata": {
      "needs_background": "light"
     },
     "output_type": "display_data"
    }
   ],
   "source": [
    "plt.figure(figsize = (8,12))\n",
    "sns.barplot(x = 'odometer', y = 'manufacturer', data = dfx);"
   ]
  },
  {
   "cell_type": "code",
   "execution_count": 116,
   "metadata": {},
   "outputs": [
    {
     "data": {
      "image/png": "[encoded data removed]",
      "text/plain": [
       "<Figure size 864x3600 with 1 Axes>"
      ]
     },
     "metadata": {
      "needs_background": "light"
     },
     "output_type": "display_data"
    }
   ],
   "source": [
    "plt.figure(figsize = (12,50))\n",
    "sns.barplot(x = 'price', y = 'manufacturer', hue = 'condition', data = dfx);"
   ]
  },
  {
   "cell_type": "code",
   "execution_count": 117,
   "metadata": {},
   "outputs": [
    {
     "data": {
      "image/png": "[encoded data removed]",
      "text/plain": [
       "<Figure size 864x864 with 1 Axes>"
      ]
     },
     "metadata": {
      "needs_background": "light"
     },
     "output_type": "display_data"
    }
   ],
   "source": [
    "plt.figure(figsize = (12,12))\n",
    "sns.barplot(x= 'price', y = 'condition', data = dfx);"
   ]
  },
  {
   "cell_type": "code",
   "execution_count": 118,
   "metadata": {},
   "outputs": [
    {
     "data": {
      "image/png": "[encoded data removed]",
      "text/plain": [
       "<Figure size 864x864 with 1 Axes>"
      ]
     },
     "metadata": {
      "needs_background": "light"
     },
     "output_type": "display_data"
    }
   ],
   "source": [
    "plt.figure(figsize = (12,12))\n",
    "sns.barplot(y= 'price', x = 'condition', hue= 'cylinders',data = dfx);"
   ]
  },
  {
   "cell_type": "code",
   "execution_count": 119,
   "metadata": {},
   "outputs": [
    {
     "data": {
      "image/png": "[encoded data removed]",
      "text/plain": [
       "<Figure size 864x864 with 1 Axes>"
      ]
     },
     "metadata": {
      "needs_background": "light"
     },
     "output_type": "display_data"
    }
   ],
   "source": [
    "plt.figure(figsize = (12,12))\n",
    "sns.barplot(y= 'car_age', x = 'cylinders', data = dfx);"
   ]
  },
  {
   "cell_type": "code",
   "execution_count": 120,
   "metadata": {},
   "outputs": [
    {
     "data": {
      "image/png": "[encoded data removed]",
      "text/plain": [
       "<Figure size 864x864 with 1 Axes>"
      ]
     },
     "metadata": {
      "needs_background": "light"
     },
     "output_type": "display_data"
    }
   ],
   "source": [
    "plt.figure(figsize = (12,12))\n",
    "sns.barplot(y= 'price', x = 'fuel',data = dfx);"
   ]
  },
  {
   "cell_type": "markdown",
   "metadata": {},
   "source": [
    "Most of the cars are Diesel type"
   ]
  },
  {
   "cell_type": "code",
   "execution_count": 121,
   "metadata": {},
   "outputs": [
    {
     "data": {
      "image/png": "[encoded data removed]",
      "text/plain": [
       "<Figure size 864x864 with 1 Axes>"
      ]
     },
     "metadata": {
      "needs_background": "light"
     },
     "output_type": "display_data"
    }
   ],
   "source": [
    "plt.figure(figsize = (12,12))\n",
    "sns.barplot(y= 'price', x = 'fuel', hue= 'cylinders',data = dfx);"
   ]
  },
  {
   "cell_type": "markdown",
   "metadata": {},
   "source": [
    "- Since diesel cars are popular among normal drivers, what they expect is average cars having 6-8 cylinders.\n",
    "- While Gas or Petrol, since gasoline is far better when it comes to making horsepower, and horsepower is what dictates how fast a car will go after the initial acceleration, it only seems logical that petrol engines are used in supercars instead of diesel\n",
    "- So is the same for hybrid cars\n",
    "- Electric cars doesn't contains engine which is 0 cylinders. That data is totally incorrect"
   ]
  },
  {
   "cell_type": "code",
   "execution_count": 122,
   "metadata": {},
   "outputs": [
    {
     "data": {
      "image/png": "[encoded data removed]",
      "text/plain": [
       "<Figure size 864x864 with 1 Axes>"
      ]
     },
     "metadata": {
      "needs_background": "light"
     },
     "output_type": "display_data"
    }
   ],
   "source": [
    "plt.figure(figsize = (12,12))\n",
    "sns.barplot(y= 'odometer', x = 'fuel',data = dfx);"
   ]
  },
  {
   "cell_type": "code",
   "execution_count": 123,
   "metadata": {},
   "outputs": [
    {
     "data": {
      "image/png": "[encoded data removed]",
      "text/plain": [
       "<Figure size 864x864 with 1 Axes>"
      ]
     },
     "metadata": {
      "needs_background": "light"
     },
     "output_type": "display_data"
    }
   ],
   "source": [
    "plt.figure(figsize = (12,12))\n",
    "sns.barplot(y= 'odometer', x = 'fuel', hue= 'cylinders',data = dfx);"
   ]
  },
  {
   "cell_type": "code",
   "execution_count": 124,
   "metadata": {},
   "outputs": [
    {
     "data": {
      "image/png": "[encoded data removed]",
      "text/plain": [
       "<Figure size 864x864 with 1 Axes>"
      ]
     },
     "metadata": {
      "needs_background": "light"
     },
     "output_type": "display_data"
    }
   ],
   "source": [
    "plt.figure(figsize = (12,12))\n",
    "sns.barplot(y= 'price', x = 'fuel', hue= 'drive',data = dfx);"
   ]
  },
  {
   "cell_type": "markdown",
   "metadata": {},
   "source": [
    "- Gas option: RWD (Rear Wheel Drive) has the highest sales\n",
    "- Diesel option: 4WD (Four WHeel Drive) is the popular one\n",
    "- Hybrid option: RWD (Rear Wheel Drive) has the highest sales\n",
    "- Electric option: 4WD (Four Wheel Drive) \n",
    "\n",
    "Observing this data, we can see fwd (front wheel drive) is not popular. It has significantly lower number of sales"
   ]
  },
  {
   "cell_type": "code",
   "execution_count": 125,
   "metadata": {},
   "outputs": [
    {
     "data": {
      "image/png": "[encoded data removed]",
      "text/plain": [
       "<Figure size 864x864 with 1 Axes>"
      ]
     },
     "metadata": {
      "needs_background": "light"
     },
     "output_type": "display_data"
    }
   ],
   "source": [
    "plt.figure(figsize = (12,12))\n",
    "sns.barplot(y= 'odometer', x = 'fuel', hue= 'drive',data = dfx);"
   ]
  },
  {
   "cell_type": "code",
   "execution_count": 126,
   "metadata": {},
   "outputs": [
    {
     "data": {
      "image/png": "[encoded data removed]",
      "text/plain": [
       "<Figure size 864x1080 with 1 Axes>"
      ]
     },
     "metadata": {
      "needs_background": "light"
     },
     "output_type": "display_data"
    }
   ],
   "source": [
    "plt.figure(figsize = (12,15))\n",
    "sns.barplot(x = 'price', y = 'type', hue= 'drive',data = dfx);"
   ]
  },
  {
   "cell_type": "markdown",
   "metadata": {},
   "source": [
    "- SUV & Offroad & Pickup, buying a SUV or Offroad with RWD or FWD is not worth, so most of the people so for 4WD\n",
    "- Similaly, Truck, VAN & Wagon too needs more power, so most of the people prefer 4WD (Four Wheel Drive)\n",
    "- However, amazingly the highest seller for BUS is RWD\n",
    "- Sedan, Coupe, Hatchback they are cities cars so RWD is fine for them.\n"
   ]
  },
  {
   "cell_type": "code",
   "execution_count": 127,
   "metadata": {},
   "outputs": [
    {
     "data": {
      "image/png": "[encoded data removed]",
      "text/plain": [
       "<Figure size 864x1080 with 1 Axes>"
      ]
     },
     "metadata": {
      "needs_background": "light"
     },
     "output_type": "display_data"
    }
   ],
   "source": [
    "plt.figure(figsize = (12,15))\n",
    "sns.barplot(x = 'price', y = 'type', hue= 'transmission',data = dfx);"
   ]
  },
  {
   "cell_type": "code",
   "execution_count": 128,
   "metadata": {},
   "outputs": [
    {
     "data": {
      "image/png": "[encoded data removed]",
      "text/plain": [
       "<Figure size 864x720 with 1 Axes>"
      ]
     },
     "metadata": {
      "needs_background": "light"
     },
     "output_type": "display_data"
    }
   ],
   "source": [
    "plt.figure(figsize = (12,10))\n",
    "sns.barplot(y = 'price', x = 'paint_color',data = dfx);"
   ]
  },
  {
   "cell_type": "code",
   "execution_count": 129,
   "metadata": {},
   "outputs": [
    {
     "data": {
      "image/png": "[encoded data removed]",
      "text/plain": [
       "<Figure size 864x1440 with 1 Axes>"
      ]
     },
     "metadata": {
      "needs_background": "light"
     },
     "output_type": "display_data"
    }
   ],
   "source": [
    "plt.figure(figsize = (12,20))\n",
    "sns.barplot(x = 'price', y = 'paint_color',data = dfx);"
   ]
  },
  {
   "cell_type": "markdown",
   "metadata": {},
   "source": [
    "Since, we are predicting the price it is a regression type"
   ]
  },
  {
   "cell_type": "code",
   "execution_count": 130,
   "metadata": {},
   "outputs": [
    {
     "data": {
      "image/png": "[encoded data removed]",
      "text/plain": [
       "<Figure size 792x576 with 2 Axes>"
      ]
     },
     "metadata": {
      "needs_background": "light"
     },
     "output_type": "display_data"
    }
   ],
   "source": [
    "sns.heatmap(dfx.corr(method='pearson'),annot=True, cmap='RdYlGn', linewidths=0.2)\n",
    "fig=plt.gcf()\n",
    "fig.set_size_inches(11,8)\n",
    "plt.show()"
   ]
  }
 ],
 "metadata": {
  "kernelspec": {
   "display_name": "Python 3",
   "language": "python",
   "name": "python3"
  },
  "language_info": {
   "codemirror_mode": {
    "name": "ipython",
    "version": 3
   },
   "file_extension": ".py",
   "mimetype": "text/x-python",
   "name": "python",
   "nbconvert_exporter": "python",
   "pygments_lexer": "ipython3",
   "version": "3.8.5"
  }
 },
 "nbformat": 4,
 "nbformat_minor": 2
}
